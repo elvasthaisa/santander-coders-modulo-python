{
 "cells": [
  {
   "cell_type": "markdown",
   "metadata": {
    "id": "6c_oKJuZ9Qp5"
   },
   "source": [
    "## Aula 03 - Dicionários\n",
    "\n",
    "Na aula de hoje, iremos explorar os seguintes tópicos em Python:\n",
    "- Dicionários\n"
   ]
  },
  {
   "cell_type": "markdown",
   "metadata": {
    "id": "1HUp71Tj9WbW"
   },
   "source": [
    "### Dicionários\n",
    "\n",
    "Uma outra estrutura de dados bem importante em Python são os **dicionários**, que, assim como as listas, também constitui uma **coleção de dados**. A diferença é que um dicionário é definido a partir de **dois elementos**: uma **chave** e um **valor**.\n",
    "\n",
    "- A **chave** é uma string ou int que é utilizada como se fosse um índice, identificando os respectivos valores.\n",
    "\n",
    "- O **valor** pode ser qualquer dado: um int, um float, uma str, um bool, uma lista, uma tupla, outro dicionário...\n",
    "\n"
   ]
  },
  {
   "cell_type": "markdown",
   "metadata": {
    "id": "bcGKF2w4wh5y"
   },
   "source": [
    "Dicionários são indicados **entre chaves {}** segundo a estrutura:\n",
    "```python\n",
    "dicionario = {\"chave\": valor}\n",
    "```"
   ]
  },
  {
   "cell_type": "code",
   "execution_count": 1,
   "metadata": {
    "colab": {
     "base_uri": "https://localhost:8080/"
    },
    "executionInfo": {
     "elapsed": 9,
     "status": "ok",
     "timestamp": 1664732091708,
     "user": {
      "displayName": "Gilberto Kaihami",
      "userId": "07651446941847976228"
     },
     "user_tz": 180
    },
    "id": "1DvgGEEH8KQ1",
    "outputId": "535f285d-4dfe-4e96-f0d9-3c286136e2c5"
   },
   "outputs": [],
   "source": [
    "# Definição do dicionário\n",
    "# Formato\n",
    "#{'chave': valor, 'chave2': valor2, 'chave3': valor3}"
   ]
  },
  {
   "cell_type": "code",
   "execution_count": 2,
   "metadata": {},
   "outputs": [],
   "source": [
    "dicionario_do_fulano = {\n",
    "    \"nome\": \"Fulano\",\n",
    "    \"idade\": 32,\n",
    "    \"cidade\": \"Belo Horizonte\",\n",
    "    \"filhos\": 0,\n",
    "    \"altura\": 1.6\n",
    "}"
   ]
  },
  {
   "cell_type": "code",
   "execution_count": 3,
   "metadata": {},
   "outputs": [
    {
     "data": {
      "text/plain": [
       "{'nome': 'Fulano',\n",
       " 'idade': 32,\n",
       " 'cidade': 'Belo Horizonte',\n",
       " 'filhos': 0,\n",
       " 'altura': 1.6}"
      ]
     },
     "execution_count": 3,
     "metadata": {},
     "output_type": "execute_result"
    }
   ],
   "source": [
    "dicionario_do_fulano"
   ]
  },
  {
   "cell_type": "markdown",
   "metadata": {
    "id": "vQ9brwtMz-bL"
   },
   "source": [
    "Podemos acessar os valores do dicionário a partir das chaves"
   ]
  },
  {
   "cell_type": "code",
   "execution_count": 4,
   "metadata": {
    "colab": {
     "base_uri": "https://localhost:8080/",
     "height": 35
    },
    "executionInfo": {
     "elapsed": 10,
     "status": "ok",
     "timestamp": 1664732904718,
     "user": {
      "displayName": "Gilberto Kaihami",
      "userId": "07651446941847976228"
     },
     "user_tz": 180
    },
    "id": "O-nKlTdsw6pi",
    "outputId": "79cc184d-d774-4595-c81e-c1381e52889c"
   },
   "outputs": [
    {
     "data": {
      "text/plain": [
       "'Fulano'"
      ]
     },
     "execution_count": 4,
     "metadata": {},
     "output_type": "execute_result"
    }
   ],
   "source": [
    "dicionario_do_fulano[\"nome\"]"
   ]
  },
  {
   "cell_type": "code",
   "execution_count": 5,
   "metadata": {
    "colab": {
     "base_uri": "https://localhost:8080/",
     "height": 35
    },
    "executionInfo": {
     "elapsed": 5,
     "status": "ok",
     "timestamp": 1664732911130,
     "user": {
      "displayName": "Gilberto Kaihami",
      "userId": "07651446941847976228"
     },
     "user_tz": 180
    },
    "id": "LisVE95I0DmJ",
    "outputId": "85890bfb-670d-4013-fc81-7ade842519be"
   },
   "outputs": [
    {
     "data": {
      "text/plain": [
       "1.6"
      ]
     },
     "execution_count": 5,
     "metadata": {},
     "output_type": "execute_result"
    }
   ],
   "source": [
    "dicionario_do_fulano[\"altura\"]"
   ]
  },
  {
   "cell_type": "code",
   "execution_count": 8,
   "metadata": {
    "id": "yxtpucQ40FEy"
   },
   "outputs": [],
   "source": [
    "exemplo_numeros = {1: [\"um\"], \"2\": \"dois\"}"
   ]
  },
  {
   "cell_type": "code",
   "execution_count": 9,
   "metadata": {},
   "outputs": [
    {
     "data": {
      "text/plain": [
       "{1: ['um'], '2': 'dois'}"
      ]
     },
     "execution_count": 9,
     "metadata": {},
     "output_type": "execute_result"
    }
   ],
   "source": [
    "exemplo_numeros"
   ]
  },
  {
   "cell_type": "code",
   "execution_count": 10,
   "metadata": {
    "colab": {
     "base_uri": "https://localhost:8080/"
    },
    "executionInfo": {
     "elapsed": 277,
     "status": "ok",
     "timestamp": 1664732935107,
     "user": {
      "displayName": "Gilberto Kaihami",
      "userId": "07651446941847976228"
     },
     "user_tz": 180
    },
    "id": "QGrvD1b70GfE",
    "outputId": "ac3816a5-b54c-4cd2-d5ec-f4afb494ba35"
   },
   "outputs": [
    {
     "data": {
      "text/plain": [
       "['um']"
      ]
     },
     "execution_count": 10,
     "metadata": {},
     "output_type": "execute_result"
    }
   ],
   "source": [
    "exemplo_numeros[1]"
   ]
  },
  {
   "cell_type": "code",
   "execution_count": 11,
   "metadata": {
    "colab": {
     "base_uri": "https://localhost:8080/"
    },
    "executionInfo": {
     "elapsed": 260,
     "status": "ok",
     "timestamp": 1664732938849,
     "user": {
      "displayName": "Gilberto Kaihami",
      "userId": "07651446941847976228"
     },
     "user_tz": 180
    },
    "id": "RlfAMx870LAx",
    "outputId": "0a9cee5f-29cf-4531-d8ae-501dfa227f73"
   },
   "outputs": [
    {
     "ename": "KeyError",
     "evalue": "2",
     "output_type": "error",
     "traceback": [
      "\u001b[1;31m---------------------------------------------------------------------------\u001b[0m",
      "\u001b[1;31mKeyError\u001b[0m                                  Traceback (most recent call last)",
      "\u001b[1;32m<ipython-input-11-b758a72fe2a2>\u001b[0m in \u001b[0;36m<module>\u001b[1;34m\u001b[0m\n\u001b[1;32m----> 1\u001b[1;33m \u001b[0mexemplo_numeros\u001b[0m\u001b[1;33m[\u001b[0m\u001b[1;36m2\u001b[0m\u001b[1;33m]\u001b[0m\u001b[1;33m\u001b[0m\u001b[1;33m\u001b[0m\u001b[0m\n\u001b[0m",
      "\u001b[1;31mKeyError\u001b[0m: 2"
     ]
    }
   ],
   "source": [
    "exemplo_numeros[2]"
   ]
  },
  {
   "cell_type": "code",
   "execution_count": 12,
   "metadata": {},
   "outputs": [
    {
     "data": {
      "text/plain": [
       "'dois'"
      ]
     },
     "execution_count": 12,
     "metadata": {},
     "output_type": "execute_result"
    }
   ],
   "source": [
    "exemplo_numeros[\"2\"]"
   ]
  },
  {
   "cell_type": "code",
   "execution_count": 14,
   "metadata": {},
   "outputs": [],
   "source": [
    "# Criando um dicionário de cadastros\n",
    "\n",
    "cadastro = {\n",
    "    \"Nome\": [\"Guilherme\", \"Caio\", \"Thascilla\"],\n",
    "    \"Idade\": [29, 29, 26],\n",
    "    \"Estado\": [\"Pernambuco\", \"Pernambuco\", \"Santa Catarina\"],\n",
    "    \"Cidade\": [\"Recife\", \"Itamaracá\", \"São José\"]\n",
    "}"
   ]
  },
  {
   "cell_type": "code",
   "execution_count": 15,
   "metadata": {},
   "outputs": [
    {
     "data": {
      "text/plain": [
       "{'Nome': ['Guilherme', 'Caio', 'Thascilla'],\n",
       " 'Idade': [29, 29, 26],\n",
       " 'Estado': ['Pernambuco', 'Pernambuco', 'Santa Catarina'],\n",
       " 'Cidade': ['Recife', 'Itamaracá', 'São José']}"
      ]
     },
     "execution_count": 15,
     "metadata": {},
     "output_type": "execute_result"
    }
   ],
   "source": [
    "cadastro"
   ]
  },
  {
   "cell_type": "code",
   "execution_count": 17,
   "metadata": {},
   "outputs": [
    {
     "data": {
      "text/plain": [
       "['Guilherme', 'Caio', 'Thascilla']"
      ]
     },
     "execution_count": 17,
     "metadata": {},
     "output_type": "execute_result"
    }
   ],
   "source": [
    "cadastro[\"Nome\"]"
   ]
  },
  {
   "cell_type": "code",
   "execution_count": 18,
   "metadata": {},
   "outputs": [
    {
     "data": {
      "text/plain": [
       "['Recife', 'Itamaracá', 'São José']"
      ]
     },
     "execution_count": 18,
     "metadata": {},
     "output_type": "execute_result"
    }
   ],
   "source": [
    "cadastro[\"Cidade\"]"
   ]
  },
  {
   "cell_type": "code",
   "execution_count": 20,
   "metadata": {},
   "outputs": [],
   "source": [
    "lista_cadastros = [\n",
    "    [\"Guilherme\", \"Caio\", \"Thascilla\"],\n",
    "    [29, 29, 26],\n",
    "    [\"Pernambuco\", \"Pernambuco\", \"Santa Catarina\"],\n",
    "    [\"Recife\", \"Itamaracá\", \"São José\"]\n",
    "]"
   ]
  },
  {
   "cell_type": "code",
   "execution_count": 22,
   "metadata": {},
   "outputs": [
    {
     "data": {
      "text/plain": [
       "['Recife', 'Itamaracá', 'São José']"
      ]
     },
     "execution_count": 22,
     "metadata": {},
     "output_type": "execute_result"
    }
   ],
   "source": [
    "lista_cadastros[3]"
   ]
  },
  {
   "cell_type": "markdown",
   "metadata": {
    "id": "mpgq6sQH0RG7"
   },
   "source": [
    "Poderíamos, ao invés de um dicionário, usar uma lista de listas, como abaixo. \n",
    "\n",
    "Porém, neste caso, fica bem menos intuitivo quando queremos selecionar os elementos que representam nomes ou cidades, porque somos obrigado a usar números para indexar, ao invés das chaves. Assim, note que as chaves permitem que atribuamos significados bastante intuitivos para as quantidades com as quais trabalhamos!"
   ]
  },
  {
   "cell_type": "code",
   "execution_count": 23,
   "metadata": {
    "id": "QfHgva-S0L7I"
   },
   "outputs": [],
   "source": [
    "cadastro = {}"
   ]
  },
  {
   "cell_type": "code",
   "execution_count": 24,
   "metadata": {
    "id": "ZLw7uvsk0TGS"
   },
   "outputs": [
    {
     "data": {
      "text/plain": [
       "{}"
      ]
     },
     "execution_count": 24,
     "metadata": {},
     "output_type": "execute_result"
    }
   ],
   "source": [
    "cadastro"
   ]
  },
  {
   "cell_type": "code",
   "execution_count": 25,
   "metadata": {
    "colab": {
     "base_uri": "https://localhost:8080/"
    },
    "executionInfo": {
     "elapsed": 5,
     "status": "ok",
     "timestamp": 1664732978727,
     "user": {
      "displayName": "Gilberto Kaihami",
      "userId": "07651446941847976228"
     },
     "user_tz": 180
    },
    "id": "TWJgOKLI0UPc",
    "outputId": "2112b2ff-b359-460a-b613-a01b3dd33744"
   },
   "outputs": [],
   "source": [
    "cadastro[\"Nome\"] = \"Carlos\""
   ]
  },
  {
   "cell_type": "code",
   "execution_count": 27,
   "metadata": {
    "colab": {
     "base_uri": "https://localhost:8080/"
    },
    "executionInfo": {
     "elapsed": 4,
     "status": "ok",
     "timestamp": 1664733027081,
     "user": {
      "displayName": "Gilberto Kaihami",
      "userId": "07651446941847976228"
     },
     "user_tz": 180
    },
    "id": "eb6K7hvo0VxI",
    "outputId": "30686798-b52b-4d01-aa56-16aa6b2cc279"
   },
   "outputs": [
    {
     "data": {
      "text/plain": [
       "{'Nome': 'Carlos'}"
      ]
     },
     "execution_count": 27,
     "metadata": {},
     "output_type": "execute_result"
    }
   ],
   "source": [
    "cadastro"
   ]
  },
  {
   "cell_type": "code",
   "execution_count": 28,
   "metadata": {},
   "outputs": [],
   "source": [
    "cadastro[\"Nome\"] = \"Thascilla\""
   ]
  },
  {
   "cell_type": "code",
   "execution_count": 29,
   "metadata": {},
   "outputs": [
    {
     "data": {
      "text/plain": [
       "{'Nome': 'Thascilla'}"
      ]
     },
     "execution_count": 29,
     "metadata": {},
     "output_type": "execute_result"
    }
   ],
   "source": [
    "cadastro"
   ]
  },
  {
   "cell_type": "code",
   "execution_count": 30,
   "metadata": {},
   "outputs": [],
   "source": [
    "cadastro[\"Nome\"] = []"
   ]
  },
  {
   "cell_type": "code",
   "execution_count": 32,
   "metadata": {},
   "outputs": [
    {
     "data": {
      "text/plain": [
       "{'Nome': []}"
      ]
     },
     "execution_count": 32,
     "metadata": {},
     "output_type": "execute_result"
    }
   ],
   "source": [
    "cadastro"
   ]
  },
  {
   "cell_type": "code",
   "execution_count": 33,
   "metadata": {},
   "outputs": [],
   "source": [
    "cadastro[\"Nome\"].append(\"Carlos\")"
   ]
  },
  {
   "cell_type": "code",
   "execution_count": 34,
   "metadata": {},
   "outputs": [
    {
     "data": {
      "text/plain": [
       "{'Nome': ['Carlos']}"
      ]
     },
     "execution_count": 34,
     "metadata": {},
     "output_type": "execute_result"
    }
   ],
   "source": [
    "cadastro"
   ]
  },
  {
   "cell_type": "code",
   "execution_count": 35,
   "metadata": {},
   "outputs": [],
   "source": [
    "cadastro[\"Nome\"].append(\"Thascilla\")"
   ]
  },
  {
   "cell_type": "code",
   "execution_count": 36,
   "metadata": {},
   "outputs": [
    {
     "data": {
      "text/plain": [
       "{'Nome': ['Carlos', 'Thascilla']}"
      ]
     },
     "execution_count": 36,
     "metadata": {},
     "output_type": "execute_result"
    }
   ],
   "source": [
    "cadastro"
   ]
  },
  {
   "cell_type": "code",
   "execution_count": 38,
   "metadata": {},
   "outputs": [],
   "source": [
    "cadastro = {\n",
    "    \"Guilherme\": {\"Idade\": 29, \"Estado\": \"Pernambuco\", \"Cidade\": \"Recife\"},\n",
    "    \"Caio\": {\"Idade\": 29, \"Estado\": \"Pernambuco\", \"Cidade\": \"Itmaracá\"}\n",
    "}"
   ]
  },
  {
   "cell_type": "code",
   "execution_count": 39,
   "metadata": {},
   "outputs": [
    {
     "data": {
      "text/plain": [
       "{'Guilherme': {'Idade': 29, 'Estado': 'Pernambuco', 'Cidade': 'Recife'},\n",
       " 'Caio': {'Idade': 29, 'Estado': 'Pernambuco', 'Cidade': 'Itmaracá'}}"
      ]
     },
     "execution_count": 39,
     "metadata": {},
     "output_type": "execute_result"
    }
   ],
   "source": [
    "cadastro"
   ]
  },
  {
   "cell_type": "code",
   "execution_count": 40,
   "metadata": {},
   "outputs": [
    {
     "data": {
      "text/plain": [
       "{'Idade': 29, 'Estado': 'Pernambuco', 'Cidade': 'Recife'}"
      ]
     },
     "execution_count": 40,
     "metadata": {},
     "output_type": "execute_result"
    }
   ],
   "source": [
    "cadastro[\"Guilherme\"]"
   ]
  },
  {
   "cell_type": "code",
   "execution_count": 41,
   "metadata": {},
   "outputs": [
    {
     "data": {
      "text/plain": [
       "{'Idade': 29, 'Estado': 'Pernambuco', 'Cidade': 'Itmaracá'}"
      ]
     },
     "execution_count": 41,
     "metadata": {},
     "output_type": "execute_result"
    }
   ],
   "source": [
    "cadastro[\"Caio\"]"
   ]
  },
  {
   "cell_type": "code",
   "execution_count": 42,
   "metadata": {},
   "outputs": [],
   "source": [
    "cadastro[\"Thascilla\"] = {\"Idade\": 26, \"Estado\": \"Santa Catarina\", \"Cidade\": \"São José\"}"
   ]
  },
  {
   "cell_type": "code",
   "execution_count": 43,
   "metadata": {},
   "outputs": [
    {
     "data": {
      "text/plain": [
       "{'Guilherme': {'Idade': 29, 'Estado': 'Pernambuco', 'Cidade': 'Recife'},\n",
       " 'Caio': {'Idade': 29, 'Estado': 'Pernambuco', 'Cidade': 'Itmaracá'},\n",
       " 'Thascilla': {'Idade': 26, 'Estado': 'Santa Catarina', 'Cidade': 'São José'}}"
      ]
     },
     "execution_count": 43,
     "metadata": {},
     "output_type": "execute_result"
    }
   ],
   "source": [
    "cadastro"
   ]
  },
  {
   "cell_type": "code",
   "execution_count": 44,
   "metadata": {},
   "outputs": [
    {
     "data": {
      "text/plain": [
       "{'Idade': 26, 'Estado': 'Santa Catarina', 'Cidade': 'São José'}"
      ]
     },
     "execution_count": 44,
     "metadata": {},
     "output_type": "execute_result"
    }
   ],
   "source": [
    "cadastro[\"Thascilla\"]"
   ]
  },
  {
   "cell_type": "code",
   "execution_count": 45,
   "metadata": {
    "colab": {
     "base_uri": "https://localhost:8080/"
    },
    "executionInfo": {
     "elapsed": 4,
     "status": "ok",
     "timestamp": 1664733049717,
     "user": {
      "displayName": "Gilberto Kaihami",
      "userId": "07651446941847976228"
     },
     "user_tz": 180
    },
    "id": "-vZ-tkF60XgT",
    "outputId": "7f58814c-f5c9-4628-c657-636c578592f0"
   },
   "outputs": [],
   "source": [
    "cadastro = {}, {}"
   ]
  },
  {
   "cell_type": "code",
   "execution_count": 46,
   "metadata": {
    "id": "8DgO2Jqq0icN"
   },
   "outputs": [
    {
     "data": {
      "text/plain": [
       "({}, {})"
      ]
     },
     "execution_count": 46,
     "metadata": {},
     "output_type": "execute_result"
    }
   ],
   "source": [
    "cadastro"
   ]
  },
  {
   "cell_type": "markdown",
   "metadata": {
    "id": "NpZisa5H0kZL"
   },
   "source": [
    "Para adicionar elementos ao dicionário, não precisamos de uma função pronta (como o append das listas). Basta definir a nova chave como uma variável, e atribuir um novo valor a ela:\n"
   ]
  },
  {
   "cell_type": "markdown",
   "metadata": {
    "id": "ybUJo-eP677u"
   },
   "source": [
    "Adicione o par chave-valor \"cor\": \"azul: no dicionário `carro` abaixo"
   ]
  },
  {
   "cell_type": "code",
   "execution_count": 47,
   "metadata": {
    "id": "D2814o1q67fR"
   },
   "outputs": [],
   "source": [
    "carro = {\n",
    "    \"Marca\": \"Toyota\",\n",
    "    \"Modelo\": \"Yaris\",\n",
    "    \"Ano\": 1964\n",
    "}"
   ]
  },
  {
   "cell_type": "code",
   "execution_count": 48,
   "metadata": {},
   "outputs": [
    {
     "data": {
      "text/plain": [
       "{'Marca': 'Toyota', 'Modelo': 'Yaris', 'Ano': 1964}"
      ]
     },
     "execution_count": 48,
     "metadata": {},
     "output_type": "execute_result"
    }
   ],
   "source": [
    "carro"
   ]
  },
  {
   "cell_type": "code",
   "execution_count": 49,
   "metadata": {},
   "outputs": [],
   "source": [
    "carro[\"Cor\"] = \"Azul\" "
   ]
  },
  {
   "cell_type": "code",
   "execution_count": 50,
   "metadata": {},
   "outputs": [
    {
     "data": {
      "text/plain": [
       "{'Marca': 'Toyota', 'Modelo': 'Yaris', 'Ano': 1964, 'Cor': 'Azul'}"
      ]
     },
     "execution_count": 50,
     "metadata": {},
     "output_type": "execute_result"
    }
   ],
   "source": [
    "carro"
   ]
  },
  {
   "cell_type": "markdown",
   "metadata": {
    "id": "csxv7X_A05pd"
   },
   "source": [
    "__Para apagar uma chave, utilize o \"pop\"__"
   ]
  },
  {
   "cell_type": "code",
   "execution_count": 1,
   "metadata": {
    "colab": {
     "base_uri": "https://localhost:8080/"
    },
    "executionInfo": {
     "elapsed": 5,
     "status": "ok",
     "timestamp": 1664733152517,
     "user": {
      "displayName": "Gilberto Kaihami",
      "userId": "07651446941847976228"
     },
     "user_tz": 180
    },
    "id": "dCFwhScu0-Hb",
    "outputId": "9a7f4adf-28da-4851-ca53-4f0eea87af4e"
   },
   "outputs": [],
   "source": [
    "cadastro = {\n",
    "    \"Guilherme\": {\"Idade\": 29, \"Estado\": \"Pernambuco\", \"Cidade\": \"Recife\"},\n",
    "    \"Caio\": {\"Idade\": 29, \"Estado\": \"Pernambuco\", \"Cidade\": \"Itamaracá\"}\n",
    "}"
   ]
  },
  {
   "cell_type": "code",
   "execution_count": 2,
   "metadata": {},
   "outputs": [
    {
     "data": {
      "text/plain": [
       "{'Guilherme': {'Idade': 29, 'Estado': 'Pernambuco', 'Cidade': 'Recife'},\n",
       " 'Caio': {'Idade': 29, 'Estado': 'Pernambuco', 'Cidade': 'Itamaracá'}}"
      ]
     },
     "execution_count": 2,
     "metadata": {},
     "output_type": "execute_result"
    }
   ],
   "source": [
    "cadastro"
   ]
  },
  {
   "cell_type": "code",
   "execution_count": 53,
   "metadata": {
    "id": "BsqwvdV-01Ak"
   },
   "outputs": [
    {
     "data": {
      "text/plain": [
       "{'Idade': 29, 'Estado': 'Pernambuco', 'Cidade': 'Itmaracá'}"
      ]
     },
     "execution_count": 53,
     "metadata": {},
     "output_type": "execute_result"
    }
   ],
   "source": [
    "cadastro.pop(\"Caio\")"
   ]
  },
  {
   "cell_type": "code",
   "execution_count": 54,
   "metadata": {},
   "outputs": [
    {
     "data": {
      "text/plain": [
       "{'Guilherme': {'Idade': 29, 'Estado': 'Pernambuco', 'Cidade': 'Recife'}}"
      ]
     },
     "execution_count": 54,
     "metadata": {},
     "output_type": "execute_result"
    }
   ],
   "source": [
    "cadastro"
   ]
  },
  {
   "cell_type": "markdown",
   "metadata": {
    "id": "BJNGUVJU1CtN"
   },
   "source": [
    "__Ou, utilize o \"del\"__"
   ]
  },
  {
   "cell_type": "code",
   "execution_count": 55,
   "metadata": {
    "colab": {
     "base_uri": "https://localhost:8080/"
    },
    "executionInfo": {
     "elapsed": 3,
     "status": "ok",
     "timestamp": 1664733189483,
     "user": {
      "displayName": "Gilberto Kaihami",
      "userId": "07651446941847976228"
     },
     "user_tz": 180
    },
    "id": "vxYS7YY809pE",
    "outputId": "0c270869-9e43-4be6-c58c-f01d7f83eabd"
   },
   "outputs": [],
   "source": [
    "cadastro = {\n",
    "    \"Guilherme\": {\"Idade\": 29, \"Estado\": \"Pernambuco\", \"Cidade\": \"Recife\"},\n",
    "    \"Caio\": {\"Idade\": 29, \"Estado\": \"Pernambuco\", \"Cidade\": \"Itmaracá\"}\n",
    "}"
   ]
  },
  {
   "cell_type": "code",
   "execution_count": 56,
   "metadata": {},
   "outputs": [
    {
     "data": {
      "text/plain": [
       "{'Guilherme': {'Idade': 29, 'Estado': 'Pernambuco', 'Cidade': 'Recife'},\n",
       " 'Caio': {'Idade': 29, 'Estado': 'Pernambuco', 'Cidade': 'Itmaracá'}}"
      ]
     },
     "execution_count": 56,
     "metadata": {},
     "output_type": "execute_result"
    }
   ],
   "source": [
    "cadastro"
   ]
  },
  {
   "cell_type": "code",
   "execution_count": 57,
   "metadata": {},
   "outputs": [],
   "source": [
    "del(cadastro[\"Guilherme\"])"
   ]
  },
  {
   "cell_type": "code",
   "execution_count": 58,
   "metadata": {},
   "outputs": [
    {
     "data": {
      "text/plain": [
       "{'Caio': {'Idade': 29, 'Estado': 'Pernambuco', 'Cidade': 'Itmaracá'}}"
      ]
     },
     "execution_count": 58,
     "metadata": {},
     "output_type": "execute_result"
    }
   ],
   "source": [
    "cadastro"
   ]
  },
  {
   "cell_type": "code",
   "execution_count": null,
   "metadata": {},
   "outputs": [],
   "source": []
  },
  {
   "cell_type": "code",
   "execution_count": 59,
   "metadata": {},
   "outputs": [],
   "source": [
    "dicionario = {\n",
    "            \"Dado\": [(29, \"Pernambuco\", \"Itamaracá\"),\n",
    "                      (29, \"Pernambuco\", \"Recife\")]\n",
    "             }"
   ]
  },
  {
   "cell_type": "code",
   "execution_count": 60,
   "metadata": {},
   "outputs": [
    {
     "data": {
      "text/plain": [
       "{'Dado': [(29, 'Pernambuco', 'Itamaracá'), (29, 'Pernambuco', 'Recife')]}"
      ]
     },
     "execution_count": 60,
     "metadata": {},
     "output_type": "execute_result"
    }
   ],
   "source": [
    "dicionario"
   ]
  },
  {
   "cell_type": "markdown",
   "metadata": {
    "id": "ZJXTqfEr7Nd3"
   },
   "source": [
    "Remova o campo (chave) \"modelo\" do dicionário `carro` abaixo"
   ]
  },
  {
   "cell_type": "code",
   "execution_count": 61,
   "metadata": {
    "id": "jQGi_TEM7M1G"
   },
   "outputs": [
    {
     "data": {
      "text/plain": [
       "{'Marca': 'Toyota', 'Modelo': 'Yaris', 'Ano': 1964, 'Cor': 'Azul'}"
      ]
     },
     "execution_count": 61,
     "metadata": {},
     "output_type": "execute_result"
    }
   ],
   "source": [
    "carro"
   ]
  },
  {
   "cell_type": "code",
   "execution_count": 63,
   "metadata": {},
   "outputs": [],
   "source": [
    "del(carro[\"Cor\"])"
   ]
  },
  {
   "cell_type": "code",
   "execution_count": 64,
   "metadata": {},
   "outputs": [
    {
     "data": {
      "text/plain": [
       "{'Marca': 'Toyota', 'Modelo': 'Yaris', 'Ano': 1964}"
      ]
     },
     "execution_count": 64,
     "metadata": {},
     "output_type": "execute_result"
    }
   ],
   "source": [
    "carro"
   ]
  },
  {
   "cell_type": "markdown",
   "metadata": {
    "id": "12x-17pt1MK-"
   },
   "source": [
    "Alterar os valores também é possível:\n",
    "\n",
    "Posso também alterar elementos individuais dos valores, os indexando\n",
    "\n",
    "(Lembre-se de que, neste caso, os valores são listas! Então, devo indexá-las para alterar seus elementos!)"
   ]
  },
  {
   "cell_type": "code",
   "execution_count": 70,
   "metadata": {
    "id": "e5GyDPf91JN8"
   },
   "outputs": [],
   "source": [
    "cadastro = {}\n",
    "cadastro[\"Cidades\"] = [\"Paris\", \"Londres\", \"Madri\"]"
   ]
  },
  {
   "cell_type": "code",
   "execution_count": 71,
   "metadata": {
    "colab": {
     "base_uri": "https://localhost:8080/"
    },
    "executionInfo": {
     "elapsed": 4,
     "status": "ok",
     "timestamp": 1664733228304,
     "user": {
      "displayName": "Gilberto Kaihami",
      "userId": "07651446941847976228"
     },
     "user_tz": 180
    },
    "id": "tmxvbrea1RbQ",
    "outputId": "0c6cf733-081d-4baf-f1a5-e95b5d1416a1"
   },
   "outputs": [
    {
     "data": {
      "text/plain": [
       "{'Cidades': ['Paris', 'Londres', 'Madri']}"
      ]
     },
     "execution_count": 71,
     "metadata": {},
     "output_type": "execute_result"
    }
   ],
   "source": [
    "cadastro"
   ]
  },
  {
   "cell_type": "code",
   "execution_count": 73,
   "metadata": {},
   "outputs": [
    {
     "data": {
      "text/plain": [
       "'Londres'"
      ]
     },
     "execution_count": 73,
     "metadata": {},
     "output_type": "execute_result"
    }
   ],
   "source": [
    "cadastro[\"Cidades\"][1]"
   ]
  },
  {
   "cell_type": "code",
   "execution_count": 74,
   "metadata": {
    "colab": {
     "base_uri": "https://localhost:8080/"
    },
    "executionInfo": {
     "elapsed": 5,
     "status": "ok",
     "timestamp": 1664733235279,
     "user": {
      "displayName": "Gilberto Kaihami",
      "userId": "07651446941847976228"
     },
     "user_tz": 180
    },
    "id": "-i6nv5XH1SkB",
    "outputId": "c08361c3-977b-400b-d133-c4ee985868b3"
   },
   "outputs": [],
   "source": [
    "cadastro[\"Cidades\"][1] = \"Berlim\""
   ]
  },
  {
   "cell_type": "code",
   "execution_count": 75,
   "metadata": {
    "colab": {
     "base_uri": "https://localhost:8080/"
    },
    "executionInfo": {
     "elapsed": 4,
     "status": "ok",
     "timestamp": 1664733242372,
     "user": {
      "displayName": "Gilberto Kaihami",
      "userId": "07651446941847976228"
     },
     "user_tz": 180
    },
    "id": "yMlIT0kD1USt",
    "outputId": "67e7ed27-b013-47b8-c83c-2b6b426702bd"
   },
   "outputs": [
    {
     "data": {
      "text/plain": [
       "{'Cidades': ['Paris', 'Berlim', 'Madri']}"
      ]
     },
     "execution_count": 75,
     "metadata": {},
     "output_type": "execute_result"
    }
   ],
   "source": [
    "cadastro"
   ]
  },
  {
   "cell_type": "code",
   "execution_count": 78,
   "metadata": {
    "id": "V_M-miNK1V7I"
   },
   "outputs": [],
   "source": [
    "cadastro[\"Cidades\"][1] = None"
   ]
  },
  {
   "cell_type": "code",
   "execution_count": 79,
   "metadata": {
    "id": "Sc3sH_Er1XNx"
   },
   "outputs": [
    {
     "data": {
      "text/plain": [
       "['Paris', None, 'Madri']"
      ]
     },
     "execution_count": 79,
     "metadata": {},
     "output_type": "execute_result"
    }
   ],
   "source": [
    "cadastro[\"Cidades\"]"
   ]
  },
  {
   "cell_type": "markdown",
   "metadata": {
    "id": "QU1JDj161oSe"
   },
   "source": [
    "Dicionários podem ser percorridos com um for. \n",
    "\n",
    "Ao fazer isso, **as chaves serão percorridas** \n",
    "\n",
    "Porém, a partir da chave obtém-se o valor:"
   ]
  },
  {
   "cell_type": "code",
   "execution_count": 9,
   "metadata": {},
   "outputs": [],
   "source": [
    "cadastro = {\n",
    "    \"Guilherme\": {\"Idade\": 29, \"Estado\": \"Pernambuco\", \"Cidade\": \"Recife\"},\n",
    "    \"Caio\": {\"Idade\": 29, \"Estado\": \"Pernambuco\", \"Cidade\": \"Itamaracá\"}\n",
    "}"
   ]
  },
  {
   "cell_type": "code",
   "execution_count": 81,
   "metadata": {
    "colab": {
     "base_uri": "https://localhost:8080/"
    },
    "executionInfo": {
     "elapsed": 282,
     "status": "ok",
     "timestamp": 1664733325216,
     "user": {
      "displayName": "Gilberto Kaihami",
      "userId": "07651446941847976228"
     },
     "user_tz": 180
    },
    "id": "HzbJGz-s1m79",
    "outputId": "3de6f96a-3320-44b0-b5b1-37e102028471"
   },
   "outputs": [
    {
     "name": "stdout",
     "output_type": "stream",
     "text": [
      "Guilherme\n",
      "Caio\n"
     ]
    }
   ],
   "source": [
    "# A iteração com o for ocorre pelas chaves do dicionário\n",
    "for chave in cadastro:\n",
    "    print(chave)"
   ]
  },
  {
   "cell_type": "code",
   "execution_count": 10,
   "metadata": {
    "colab": {
     "base_uri": "https://localhost:8080/"
    },
    "executionInfo": {
     "elapsed": 3,
     "status": "ok",
     "timestamp": 1664733330404,
     "user": {
      "displayName": "Gilberto Kaihami",
      "userId": "07651446941847976228"
     },
     "user_tz": 180
    },
    "id": "f7F4fj-81qPm",
    "outputId": "5179757e-7fba-438d-adcf-8814a5e331b0"
   },
   "outputs": [
    {
     "name": "stdout",
     "output_type": "stream",
     "text": [
      "chave = Guilherme, valor = {'Idade': 29, 'Estado': 'Pernambuco', 'Cidade': 'Recife'}\n",
      "chave = Caio, valor = {'Idade': 29, 'Estado': 'Pernambuco', 'Cidade': 'Itamaracá'}\n"
     ]
    }
   ],
   "source": [
    "for chave in cadastro:\n",
    "    print(f\"chave = {chave}, valor = {cadastro[chave]}\")"
   ]
  },
  {
   "cell_type": "code",
   "execution_count": 83,
   "metadata": {
    "colab": {
     "base_uri": "https://localhost:8080/"
    },
    "executionInfo": {
     "elapsed": 246,
     "status": "ok",
     "timestamp": 1664733338988,
     "user": {
      "displayName": "Gilberto Kaihami",
      "userId": "07651446941847976228"
     },
     "user_tz": 180
    },
    "id": "gEDb7xYU1rh3",
    "outputId": "093f17a6-fe41-4b24-eddb-54aa39a4193b"
   },
   "outputs": [
    {
     "data": {
      "text/plain": [
       "dict_keys(['Guilherme', 'Caio'])"
      ]
     },
     "execution_count": 83,
     "metadata": {},
     "output_type": "execute_result"
    }
   ],
   "source": [
    "cadastro.keys() # retorna as chaves do dicionário"
   ]
  },
  {
   "cell_type": "code",
   "execution_count": 84,
   "metadata": {
    "colab": {
     "base_uri": "https://localhost:8080/"
    },
    "executionInfo": {
     "elapsed": 4,
     "status": "ok",
     "timestamp": 1664733365762,
     "user": {
      "displayName": "Gilberto Kaihami",
      "userId": "07651446941847976228"
     },
     "user_tz": 180
    },
    "id": "GGQ7TmiW1tmb",
    "outputId": "4480bd5c-81ca-49b0-ef09-21fd5658bdc2"
   },
   "outputs": [
    {
     "name": "stdout",
     "output_type": "stream",
     "text": [
      "Guilherme\n",
      "Caio\n"
     ]
    }
   ],
   "source": [
    "for key in cadastro.keys():\n",
    "    print(key)"
   ]
  },
  {
   "cell_type": "code",
   "execution_count": 11,
   "metadata": {
    "colab": {
     "base_uri": "https://localhost:8080/"
    },
    "executionInfo": {
     "elapsed": 4,
     "status": "ok",
     "timestamp": 1664733396465,
     "user": {
      "displayName": "Gilberto Kaihami",
      "userId": "07651446941847976228"
     },
     "user_tz": 180
    },
    "id": "NucmTQ1D1u8j",
    "outputId": "2298c84f-2609-4d76-d6ee-c4f31e786088"
   },
   "outputs": [
    {
     "data": {
      "text/plain": [
       "dict_values([{'Idade': 29, 'Estado': 'Pernambuco', 'Cidade': 'Recife'}, {'Idade': 29, 'Estado': 'Pernambuco', 'Cidade': 'Itamaracá'}])"
      ]
     },
     "execution_count": 11,
     "metadata": {},
     "output_type": "execute_result"
    }
   ],
   "source": [
    "cadastro.values()"
   ]
  },
  {
   "cell_type": "code",
   "execution_count": 12,
   "metadata": {
    "id": "zwpkXSlB17t9"
   },
   "outputs": [
    {
     "name": "stdout",
     "output_type": "stream",
     "text": [
      "{'Idade': 29, 'Estado': 'Pernambuco', 'Cidade': 'Recife'}\n",
      "{'Idade': 29, 'Estado': 'Pernambuco', 'Cidade': 'Itamaracá'}\n"
     ]
    }
   ],
   "source": [
    "for value in cadastro.values():\n",
    "    print(value)"
   ]
  },
  {
   "cell_type": "code",
   "execution_count": 87,
   "metadata": {
    "colab": {
     "base_uri": "https://localhost:8080/"
    },
    "executionInfo": {
     "elapsed": 319,
     "status": "ok",
     "timestamp": 1664733414385,
     "user": {
      "displayName": "Gilberto Kaihami",
      "userId": "07651446941847976228"
     },
     "user_tz": 180
    },
    "id": "Dw6tWesO1-VU",
    "outputId": "f6ccaa47-1b2d-4dfc-bc32-d9d2f1ce842c"
   },
   "outputs": [
    {
     "data": {
      "text/plain": [
       "['Guilherme', 'Caio']"
      ]
     },
     "execution_count": 87,
     "metadata": {},
     "output_type": "execute_result"
    }
   ],
   "source": [
    "list(cadastro.keys())"
   ]
  },
  {
   "cell_type": "code",
   "execution_count": 88,
   "metadata": {
    "colab": {
     "base_uri": "https://localhost:8080/"
    },
    "executionInfo": {
     "elapsed": 384,
     "status": "ok",
     "timestamp": 1664733443414,
     "user": {
      "displayName": "Gilberto Kaihami",
      "userId": "07651446941847976228"
     },
     "user_tz": 180
    },
    "id": "UwWuEfyO2ABQ",
    "outputId": "dfe8f590-0972-44cb-e47c-7d507177eac7"
   },
   "outputs": [
    {
     "data": {
      "text/plain": [
       "('Guilherme', 'Caio')"
      ]
     },
     "execution_count": 88,
     "metadata": {},
     "output_type": "execute_result"
    }
   ],
   "source": [
    "tuple(cadastro.keys())"
   ]
  },
  {
   "cell_type": "code",
   "execution_count": 13,
   "metadata": {
    "colab": {
     "base_uri": "https://localhost:8080/"
    },
    "executionInfo": {
     "elapsed": 413,
     "status": "ok",
     "timestamp": 1664733474289,
     "user": {
      "displayName": "Gilberto Kaihami",
      "userId": "07651446941847976228"
     },
     "user_tz": 180
    },
    "id": "hZUlReQq2HH0",
    "outputId": "bcd601e1-601a-47bd-f2a2-9b8b3db3534a"
   },
   "outputs": [
    {
     "name": "stdout",
     "output_type": "stream",
     "text": [
      "chave = Guilherme\n",
      "valor = {'Idade': 29, 'Estado': 'Pernambuco', 'Cidade': 'Recife'}\n",
      "chave = Caio\n",
      "valor = {'Idade': 29, 'Estado': 'Pernambuco', 'Cidade': 'Itamaracá'}\n"
     ]
    }
   ],
   "source": [
    "# Também podemos percorrer o dicionário com o .items()\n",
    "for k, v in cadastro.items(): #.items retornará chave e valor\n",
    "    print(f\"chave = {k}\")\n",
    "    print(f\"valor = {v}\")"
   ]
  },
  {
   "cell_type": "code",
   "execution_count": 90,
   "metadata": {
    "colab": {
     "base_uri": "https://localhost:8080/"
    },
    "executionInfo": {
     "elapsed": 236,
     "status": "ok",
     "timestamp": 1664733482903,
     "user": {
      "displayName": "Gilberto Kaihami",
      "userId": "07651446941847976228"
     },
     "user_tz": 180
    },
    "id": "iGjjzlqN2Ok4",
    "outputId": "dff813d9-0648-4893-f0db-e5033aa63849"
   },
   "outputs": [
    {
     "data": {
      "text/plain": [
       "dict_items([('Guilherme', {'Idade': 29, 'Estado': 'Pernambuco', 'Cidade': 'Recife'}), ('Caio', {'Idade': 29, 'Estado': 'Pernambuco', 'Cidade': 'Itmaracá'})])"
      ]
     },
     "execution_count": 90,
     "metadata": {},
     "output_type": "execute_result"
    }
   ],
   "source": [
    "cadastro.items()"
   ]
  },
  {
   "cell_type": "code",
   "execution_count": 91,
   "metadata": {
    "colab": {
     "base_uri": "https://localhost:8080/"
    },
    "executionInfo": {
     "elapsed": 4,
     "status": "ok",
     "timestamp": 1664733510542,
     "user": {
      "displayName": "Gilberto Kaihami",
      "userId": "07651446941847976228"
     },
     "user_tz": 180
    },
    "id": "Wz34UJrQ2QwI",
    "outputId": "d0f5bf49-439d-49ab-a35d-0c7ecaf28aaf"
   },
   "outputs": [],
   "source": [
    "dicionario = {\"Dia1\": \"Segunda\", \"Dia2\": \"Terça\", \"Dia3\": \"Quarta\"}"
   ]
  },
  {
   "cell_type": "code",
   "execution_count": 92,
   "metadata": {
    "id": "pJXyUoMF2Xmh"
   },
   "outputs": [
    {
     "data": {
      "text/plain": [
       "dict_keys(['Dia1', 'Dia2', 'Dia3'])"
      ]
     },
     "execution_count": 92,
     "metadata": {},
     "output_type": "execute_result"
    }
   ],
   "source": [
    "dicionario.keys() # retorna apenas as chaves"
   ]
  },
  {
   "cell_type": "code",
   "execution_count": 93,
   "metadata": {
    "colab": {
     "base_uri": "https://localhost:8080/"
    },
    "executionInfo": {
     "elapsed": 3,
     "status": "ok",
     "timestamp": 1664733622579,
     "user": {
      "displayName": "Gilberto Kaihami",
      "userId": "07651446941847976228"
     },
     "user_tz": 180
    },
    "id": "YAQFG1ce2wb-",
    "outputId": "91cca4f3-8260-4a5d-d93a-d343386127d9"
   },
   "outputs": [
    {
     "data": {
      "text/plain": [
       "dict_values(['Segunda', 'Terça', 'Quarta'])"
      ]
     },
     "execution_count": 93,
     "metadata": {},
     "output_type": "execute_result"
    }
   ],
   "source": [
    "dicionario.values() # retorna apenas os valores correspondentes a cada chave"
   ]
  },
  {
   "cell_type": "code",
   "execution_count": 94,
   "metadata": {
    "id": "nm-ZQN5h2yzK"
   },
   "outputs": [
    {
     "data": {
      "text/plain": [
       "dict_items([('Dia1', 'Segunda'), ('Dia2', 'Terça'), ('Dia3', 'Quarta')])"
      ]
     },
     "execution_count": 94,
     "metadata": {},
     "output_type": "execute_result"
    }
   ],
   "source": [
    "dicionario.items()"
   ]
  },
  {
   "cell_type": "code",
   "execution_count": 96,
   "metadata": {
    "id": "Jc6nUSo023Eq"
   },
   "outputs": [
    {
     "name": "stdout",
     "output_type": "stream",
     "text": [
      "Chave: Dia1\n",
      "Valor: Segunda\n",
      "Chave: Dia2\n",
      "Valor: Terça\n",
      "Chave: Dia3\n",
      "Valor: Quarta\n"
     ]
    }
   ],
   "source": [
    "for chave, valor in dicionario.items():\n",
    "    print(f\"Chave: {chave}\")\n",
    "    print(f\"Valor: {valor}\")"
   ]
  },
  {
   "cell_type": "markdown",
   "metadata": {
    "id": "7taUk-qH3pFj"
   },
   "source": [
    "**Verificando a existência de uma chave**\n",
    "\n",
    "Queremos adicionar uma nova chave no dicionário acima (por exemplo: renda).\n",
    "Há como inserir os três salários ao mesmo tempo, como vimos acima.\n",
    "Por outro lado, podemos inseri-los de forma sequencial, ou seja, um valor por vez.\n",
    "\n",
    "Como realizar tal operação?"
   ]
  },
  {
   "cell_type": "code",
   "execution_count": 98,
   "metadata": {
    "colab": {
     "base_uri": "https://localhost:8080/"
    },
    "executionInfo": {
     "elapsed": 4,
     "status": "ok",
     "timestamp": 1664733969714,
     "user": {
      "displayName": "Gilberto Kaihami",
      "userId": "07651446941847976228"
     },
     "user_tz": 180
    },
    "id": "5KVUvZfu3jxv",
    "outputId": "11e1ecc3-2fc4-4ad8-a2d5-c7d297c9e27e"
   },
   "outputs": [],
   "source": [
    "cadastro = {\n",
    "    \"Nome\": [\"Guilherme\", \"Caio\", \"Thascilla\"],\n",
    "    \"Idade\": [29, 29, 26],\n",
    "    \"Estado\": [\"Pernambuco\", \"Pernambuco\", \"Santa Catarina\"],\n",
    "    \"Cidade\": [\"Recife\", \"Itamaracá\", \"São José\"]\n",
    "}"
   ]
  },
  {
   "cell_type": "code",
   "execution_count": 99,
   "metadata": {
    "colab": {
     "base_uri": "https://localhost:8080/"
    },
    "executionInfo": {
     "elapsed": 10220,
     "status": "ok",
     "timestamp": 1664734174976,
     "user": {
      "displayName": "Gilberto Kaihami",
      "userId": "07651446941847976228"
     },
     "user_tz": 180
    },
    "id": "RqJH8w5Q4HVz",
    "outputId": "c48ca977-bf22-42fa-e24b-ca5e7e4edf63"
   },
   "outputs": [
    {
     "data": {
      "text/plain": [
       "{'Nome': ['Guilherme', 'Caio', 'Thascilla'],\n",
       " 'Idade': [29, 29, 26],\n",
       " 'Estado': ['Pernambuco', 'Pernambuco', 'Santa Catarina'],\n",
       " 'Cidade': ['Recife', 'Itamaracá', 'São José']}"
      ]
     },
     "execution_count": 99,
     "metadata": {},
     "output_type": "execute_result"
    }
   ],
   "source": [
    "cadastro"
   ]
  },
  {
   "cell_type": "code",
   "execution_count": 101,
   "metadata": {
    "colab": {
     "base_uri": "https://localhost:8080/"
    },
    "executionInfo": {
     "elapsed": 355,
     "status": "ok",
     "timestamp": 1664734181843,
     "user": {
      "displayName": "Gilberto Kaihami",
      "userId": "07651446941847976228"
     },
     "user_tz": 180
    },
    "id": "mZzCL2YO4seH",
    "outputId": "b11bcfac-41b0-48c0-fabe-bcdeecd261d2"
   },
   "outputs": [
    {
     "ename": "KeyError",
     "evalue": "'Renda'",
     "output_type": "error",
     "traceback": [
      "\u001b[1;31m---------------------------------------------------------------------------\u001b[0m",
      "\u001b[1;31mKeyError\u001b[0m                                  Traceback (most recent call last)",
      "\u001b[1;32m<ipython-input-101-3ad6bc79b4b9>\u001b[0m in \u001b[0;36m<module>\u001b[1;34m\u001b[0m\n\u001b[1;32m----> 1\u001b[1;33m \u001b[0mcadastro\u001b[0m\u001b[1;33m[\u001b[0m\u001b[1;34m\"Renda\"\u001b[0m\u001b[1;33m]\u001b[0m\u001b[1;33m\u001b[0m\u001b[1;33m\u001b[0m\u001b[0m\n\u001b[0m",
      "\u001b[1;31mKeyError\u001b[0m: 'Renda'"
     ]
    }
   ],
   "source": [
    "cadastro[\"Renda\"]"
   ]
  },
  {
   "cell_type": "code",
   "execution_count": 104,
   "metadata": {},
   "outputs": [
    {
     "data": {
      "text/plain": [
       "False"
      ]
     },
     "execution_count": 104,
     "metadata": {},
     "output_type": "execute_result"
    }
   ],
   "source": [
    "\"Renda\" in cadastro.keys()"
   ]
  },
  {
   "cell_type": "code",
   "execution_count": 105,
   "metadata": {},
   "outputs": [],
   "source": [
    "# Como incluiria valores de renda?\n",
    "cadastro[\"Renda\"] = []"
   ]
  },
  {
   "cell_type": "code",
   "execution_count": 106,
   "metadata": {},
   "outputs": [
    {
     "data": {
      "text/plain": [
       "{'Nome': ['Guilherme', 'Caio', 'Thascilla'],\n",
       " 'Idade': [29, 29, 26],\n",
       " 'Estado': ['Pernambuco', 'Pernambuco', 'Santa Catarina'],\n",
       " 'Cidade': ['Recife', 'Itamaracá', 'São José'],\n",
       " 'Renda': []}"
      ]
     },
     "execution_count": 106,
     "metadata": {},
     "output_type": "execute_result"
    }
   ],
   "source": [
    "cadastro"
   ]
  },
  {
   "cell_type": "code",
   "execution_count": 3,
   "metadata": {},
   "outputs": [
    {
     "data": {
      "text/plain": [
       "['Guilherme', 'Caio', 'Thascilla']"
      ]
     },
     "execution_count": 3,
     "metadata": {},
     "output_type": "execute_result"
    }
   ],
   "source": [
    "cadastro = {'Nome': ['Guilherme', 'Caio', 'Thascilla'],\n",
    " 'Idade': [29, 29, 26],\n",
    " 'Estado': ['Pernambuco', 'Pernambuco', 'Santa Catarina'],\n",
    " 'Cidade': ['Recife', 'Itamaracá', 'São José'],\n",
    " 'Renda': []}\n",
    "\n",
    "cadastro[\"Nome\"]"
   ]
  },
  {
   "cell_type": "code",
   "execution_count": 6,
   "metadata": {},
   "outputs": [
    {
     "name": "stdout",
     "output_type": "stream",
     "text": [
      "Guilherme\n",
      "Caio\n",
      "Thascilla\n"
     ]
    }
   ],
   "source": [
    "for nome in cadastro[\"Nome\"]:\n",
    "  print(nome)"
   ]
  },
  {
   "cell_type": "code",
   "execution_count": 108,
   "metadata": {},
   "outputs": [
    {
     "name": "stdout",
     "output_type": "stream",
     "text": [
      "Digite a renda de Guilherme: 10000\n",
      "Digite a renda de Caio: 12000\n",
      "Digite a renda de Thascilla: 13000\n"
     ]
    }
   ],
   "source": [
    "# Perguntando as rendas ao usuário de cada nome cadastrado no dicionário\n",
    "\n",
    "for nome in cadastro[\"Nome\"]:\n",
    "    renda = float(input(f\"Digite a renda de {nome}: \"))\n",
    "    cadastro[\"Renda\"].append(renda)"
   ]
  },
  {
   "cell_type": "code",
   "execution_count": 109,
   "metadata": {},
   "outputs": [
    {
     "data": {
      "text/plain": [
       "{'Nome': ['Guilherme', 'Caio', 'Thascilla'],\n",
       " 'Idade': [29, 29, 26],\n",
       " 'Estado': ['Pernambuco', 'Pernambuco', 'Santa Catarina'],\n",
       " 'Cidade': ['Recife', 'Itamaracá', 'São José'],\n",
       " 'Renda': [10000.0, 12000.0, 13000.0]}"
      ]
     },
     "execution_count": 109,
     "metadata": {},
     "output_type": "execute_result"
    }
   ],
   "source": [
    "cadastro"
   ]
  },
  {
   "cell_type": "markdown",
   "metadata": {
    "id": "CpbAUaEO7o6M"
   },
   "source": [
    "Outra forma de acessar os valores do dicionário é utilizando o método `get`"
   ]
  },
  {
   "cell_type": "code",
   "execution_count": 110,
   "metadata": {
    "id": "ZxViAjXi7oOS"
   },
   "outputs": [
    {
     "data": {
      "text/plain": [
       "{'Nome': ['Guilherme', 'Caio', 'Thascilla'],\n",
       " 'Idade': [29, 29, 26],\n",
       " 'Estado': ['Pernambuco', 'Pernambuco', 'Santa Catarina'],\n",
       " 'Cidade': ['Recife', 'Itamaracá', 'São José'],\n",
       " 'Renda': [10000.0, 12000.0, 13000.0]}"
      ]
     },
     "execution_count": 110,
     "metadata": {},
     "output_type": "execute_result"
    }
   ],
   "source": [
    "cadastro"
   ]
  },
  {
   "cell_type": "code",
   "execution_count": 112,
   "metadata": {},
   "outputs": [
    {
     "data": {
      "text/plain": [
       "['Guilherme', 'Caio', 'Thascilla']"
      ]
     },
     "execution_count": 112,
     "metadata": {},
     "output_type": "execute_result"
    }
   ],
   "source": [
    "cadastro[\"Nome\"]"
   ]
  },
  {
   "cell_type": "code",
   "execution_count": 111,
   "metadata": {
    "colab": {
     "base_uri": "https://localhost:8080/",
     "height": 35
    },
    "executionInfo": {
     "elapsed": 7,
     "status": "ok",
     "timestamp": 1664818840238,
     "user": {
      "displayName": "Gilberto Kaihami",
      "userId": "07651446941847976228"
     },
     "user_tz": 180
    },
    "id": "F0HhcSmn7noA",
    "outputId": "5176b180-ceac-4424-d3b5-e7eafb8d6970"
   },
   "outputs": [
    {
     "data": {
      "text/plain": [
       "['Guilherme', 'Caio', 'Thascilla']"
      ]
     },
     "execution_count": 111,
     "metadata": {},
     "output_type": "execute_result"
    }
   ],
   "source": [
    "cadastro.get(\"Nome\")"
   ]
  },
  {
   "cell_type": "markdown",
   "metadata": {
    "id": "B9Mb_FCv75pS"
   },
   "source": [
    "A vantagem do método `get` é quando tentamos acessar uma chave que não está presente no dicionário"
   ]
  },
  {
   "cell_type": "code",
   "execution_count": 114,
   "metadata": {},
   "outputs": [
    {
     "ename": "KeyError",
     "evalue": "'Altura'",
     "output_type": "error",
     "traceback": [
      "\u001b[1;31m---------------------------------------------------------------------------\u001b[0m",
      "\u001b[1;31mKeyError\u001b[0m                                  Traceback (most recent call last)",
      "\u001b[1;32m<ipython-input-114-16a4252800cb>\u001b[0m in \u001b[0;36m<module>\u001b[1;34m\u001b[0m\n\u001b[1;32m----> 1\u001b[1;33m \u001b[0mcadastro\u001b[0m\u001b[1;33m[\u001b[0m\u001b[1;34m\"Altura\"\u001b[0m\u001b[1;33m]\u001b[0m\u001b[1;33m\u001b[0m\u001b[1;33m\u001b[0m\u001b[0m\n\u001b[0m",
      "\u001b[1;31mKeyError\u001b[0m: 'Altura'"
     ]
    }
   ],
   "source": [
    "cadastro[\"Altura\"]"
   ]
  },
  {
   "cell_type": "code",
   "execution_count": 113,
   "metadata": {
    "colab": {
     "base_uri": "https://localhost:8080/"
    },
    "executionInfo": {
     "elapsed": 5,
     "status": "ok",
     "timestamp": 1664818920956,
     "user": {
      "displayName": "Gilberto Kaihami",
      "userId": "07651446941847976228"
     },
     "user_tz": 180
    },
    "id": "bPiy5E5F75Jf",
    "outputId": "cf0b4db4-54a6-4857-c163-583e9e2576a5"
   },
   "outputs": [],
   "source": [
    "cadastro.get(\"Altura\") # com o get, o código não quebra"
   ]
  },
  {
   "cell_type": "code",
   "execution_count": 115,
   "metadata": {},
   "outputs": [],
   "source": [
    "a = cadastro.get(\"Altura\")"
   ]
  },
  {
   "cell_type": "code",
   "execution_count": 116,
   "metadata": {},
   "outputs": [
    {
     "data": {
      "text/plain": [
       "NoneType"
      ]
     },
     "execution_count": 116,
     "metadata": {},
     "output_type": "execute_result"
    }
   ],
   "source": [
    "type(a)"
   ]
  },
  {
   "cell_type": "markdown",
   "metadata": {
    "id": "-z4uVNai8NJT"
   },
   "source": [
    "A estrutura do `get` é `get(<chave>, <default>)`\n",
    "\n",
    "Ou seja, podemos definir um valor padrão caso a chave não esteja presente"
   ]
  },
  {
   "cell_type": "code",
   "execution_count": 117,
   "metadata": {
    "colab": {
     "base_uri": "https://localhost:8080/"
    },
    "executionInfo": {
     "elapsed": 5,
     "status": "ok",
     "timestamp": 1664818977306,
     "user": {
      "displayName": "Gilberto Kaihami",
      "userId": "07651446941847976228"
     },
     "user_tz": 180
    },
    "id": "7LAcCuL973ox",
    "outputId": "26c3600f-3e13-45df-e01b-311ceff03df1"
   },
   "outputs": [],
   "source": [
    "alturas = cadastro.get(\"Altura\", \"Não existe essa informação na base\")"
   ]
  },
  {
   "cell_type": "code",
   "execution_count": 118,
   "metadata": {},
   "outputs": [
    {
     "data": {
      "text/plain": [
       "'Não existe essa informação na base'"
      ]
     },
     "execution_count": 118,
     "metadata": {},
     "output_type": "execute_result"
    }
   ],
   "source": [
    "alturas"
   ]
  },
  {
   "cell_type": "code",
   "execution_count": 119,
   "metadata": {},
   "outputs": [],
   "source": [
    "rendas = cadastro.get(\"Renda\", \"Não existe essa informação na base\")"
   ]
  },
  {
   "cell_type": "code",
   "execution_count": 120,
   "metadata": {},
   "outputs": [
    {
     "data": {
      "text/plain": [
       "[10000.0, 12000.0, 13000.0]"
      ]
     },
     "execution_count": 120,
     "metadata": {},
     "output_type": "execute_result"
    }
   ],
   "source": [
    "rendas"
   ]
  },
  {
   "cell_type": "markdown",
   "metadata": {
    "id": "V-qLMw7eAsQg"
   },
   "source": [
    "**Desafio**\n",
    "Modifique a função cadastrar_usuario abaixo em que serão coletados as seguintes informações a partir da entrada da pessoa usuária:\n",
    "\n",
    "- CPF (essa será a chave)\n",
    "- Nome\n",
    "- Idade\n",
    "- Sexo\n",
    "- Renda\n",
    "- Estado\n",
    "\n",
    "1-) Agora crie uma função que permita descobrir a idade média de pessoas cadastradas pelo sexo (para manter simples, masculino e feminino, representado por m e f, respectivamente (output: (('m', media_masc), ('f', media_fem))).\n",
    "\n",
    "2-) Crie uma função que mostre a quantidade de pessoas por sexo (output: (('m', media_masc), ('f', media_fem))).\n",
    "\n",
    "\n",
    "3-) Crie uma função que filtre os dados por estado (output: cadastros filtrado)\n",
    "\n",
    "4-) Crie uma função que permita deletar um cadastro por CPF (output: cadastros)\n",
    "\n",
    "\n",
    "```\n",
    "\n",
    "def cadastrar_usuario():\n",
    "  continuar_cadastro = True\n",
    "\n",
    "  cadastros = {}\n",
    "  while continuar_cadastro:\n",
    "    ...\n",
    "\n",
    "def calcule_media_idade_por_sexo():\n",
    "  ...\n",
    "\n",
    "def conte_quantidade_por_sexo():\n",
    "  ...\n",
    "\n",
    "def filtre_dados():\n",
    "  ...\n",
    "\n",
    "def delete_cadastro():\n",
    "  ...\n",
    "```"
   ]
  },
  {
   "cell_type": "code",
   "execution_count": 14,
   "metadata": {},
   "outputs": [
    {
     "data": {
      "text/plain": [
       "{'1682': {'nome': 'Thaisa',\n",
       "  'idade': 30,\n",
       "  'sexo': 'F',\n",
       "  'renda': 6000.0,\n",
       "  'estado': 'PE'},\n",
       " '0876': {'nome': 'Felipe',\n",
       "  'idade': 30,\n",
       "  'sexo': 'M',\n",
       "  'renda': 9500.0,\n",
       "  'estado': 'PE'},\n",
       " '4716': {'nome': 'Maria',\n",
       "  'idade': 62,\n",
       "  'sexo': 'F',\n",
       "  'renda': 6000.0,\n",
       "  'estado': 'PE'},\n",
       " '4226': {'nome': 'Alex',\n",
       "  'idade': 61,\n",
       "  'sexo': 'M',\n",
       "  'renda': 11000.0,\n",
       "  'estado': 'PE'},\n",
       " '2850': {'nome': 'Carla',\n",
       "  'idade': 28,\n",
       "  'sexo': 'F',\n",
       "  'renda': 5300.0,\n",
       "  'estado': 'SP'},\n",
       " '0813': {'nome': 'Leandro',\n",
       "  'idade': 35,\n",
       "  'sexo': 'M',\n",
       "  'renda': 7500.0,\n",
       "  'estado': 'SP'}}"
      ]
     },
     "execution_count": 14,
     "metadata": {},
     "output_type": "execute_result"
    }
   ],
   "source": [
    "cadastros = {}\n",
    "\n",
    "def cadastrar_usuario():\n",
    "  continuar_cadastro = True\n",
    "\n",
    "  while continuar_cadastro:\n",
    "    cpf = input(\"Digite seu cpf: \")\n",
    "    nome = input(\"Digite seu nome: \").capitalize()\n",
    "    idade = int(input(\"Digite sua idade: \"))\n",
    "    sexo = input(\"Digite seu gênero (M/F): \").upper()\n",
    "    renda = float(input(\"Digite sua renda: \"))\n",
    "    estado = input(\"Digite seu estado: \").upper()\n",
    "\n",
    "    cadastros[cpf] = { \"nome\": nome, \"idade\": idade, \"sexo\": sexo, \"renda\": renda, \"estado\": estado }\n",
    "  \n",
    "    continuar_cadastro = input(\"Deseja adicionar outro usuário? (S/N)\")\n",
    "    \n",
    "    if continuar_cadastro == \"N\":\n",
    "      break\n",
    "\n",
    "  return cadastros\n",
    "\n",
    "cadastrar_usuario()"
   ]
  },
  {
   "cell_type": "code",
   "execution_count": 15,
   "metadata": {},
   "outputs": [],
   "source": [
    "# 1\n",
    "\n",
    "cadastros = {'1682': {'nome': 'Thaisa',\n",
    "  'idade': 30,\n",
    "  'sexo': 'F',\n",
    "  'renda': 6000.0,\n",
    "  'estado': 'PE'},\n",
    " '0876': {'nome': 'Felipe',\n",
    "  'idade': 30,\n",
    "  'sexo': 'M',\n",
    "  'renda': 9500.0,\n",
    "  'estado': 'PE'},\n",
    " '4716': {'nome': 'Maria',\n",
    "  'idade': 62,\n",
    "  'sexo': 'F',\n",
    "  'renda': 6000.0,\n",
    "  'estado': 'PE'},\n",
    " '4226': {'nome': 'Alex',\n",
    "  'idade': 61,\n",
    "  'sexo': 'M',\n",
    "  'renda': 11000.0,\n",
    "  'estado': 'PE'},\n",
    " '2850': {'nome': 'Carla',\n",
    "  'idade': 28,\n",
    "  'sexo': 'F',\n",
    "  'renda': 5300.0,\n",
    "  'estado': 'SP'},\n",
    " '0813': {'nome': 'Leandro',\n",
    "  'idade': 35,\n",
    "  'sexo': 'M',\n",
    "  'renda': 7500.0,\n",
    "  'estado': 'SP'}}\n",
    "\n",
    "def calcule_media_idade_por_sexo(cadastros):\n",
    "  lista_fem = []\n",
    "  lista_masc = []\n",
    "\n",
    "  for chave in cadastros:\n",
    "    item = cadastros[chave]\n",
    "\n",
    "    if item[\"sexo\"] == 'F':\n",
    "      lista_fem.append(item[\"idade\"])\n",
    "      media_fem = sum(lista_fem)/len(lista_fem)\n",
    "    else:\n",
    "      lista_masc.append(item[\"idade\"])\n",
    "      media_masc = sum(lista_masc)/len(lista_masc)\n",
    "    \n",
    "  return (('m', media_masc), ('f', media_fem))"
   ]
  },
  {
   "cell_type": "code",
   "execution_count": 16,
   "metadata": {},
   "outputs": [
    {
     "data": {
      "text/plain": [
       "(('m', 42.0), ('f', 40.0))"
      ]
     },
     "execution_count": 16,
     "metadata": {},
     "output_type": "execute_result"
    }
   ],
   "source": [
    "calcule_media_idade_por_sexo(cadastros)"
   ]
  },
  {
   "cell_type": "code",
   "execution_count": 36,
   "metadata": {},
   "outputs": [
    {
     "data": {
      "text/plain": [
       "(('m', 3), ('f', 3))"
      ]
     },
     "execution_count": 36,
     "metadata": {},
     "output_type": "execute_result"
    }
   ],
   "source": [
    "# 2 \n",
    "\n",
    "def conte_quantidade_por_sexo(cadastros):\n",
    "  quantidade_masc = 0\n",
    "  quantidade_fem = 0\n",
    "\n",
    "  for info in cadastros.values():\n",
    "    if info[\"sexo\"] == 'F':\n",
    "      quantidade_fem += 1\n",
    "    else:\n",
    "      quantidade_masc += 1\n",
    "\n",
    "  return (('m', quantidade_masc), ('f', quantidade_fem))\n",
    "\n",
    "conte_quantidade_por_sexo(cadastros)"
   ]
  },
  {
   "cell_type": "code",
   "execution_count": 17,
   "metadata": {},
   "outputs": [
    {
     "name": "stdout",
     "output_type": "stream",
     "text": [
      "PE:  [{'nome': 'Thaisa', 'idade': 30, 'sexo': 'F', 'renda': 6000.0, 'estado': 'PE'}, {'nome': 'Felipe', 'idade': 30, 'sexo': 'M', 'renda': 9500.0, 'estado': 'PE'}, {'nome': 'Maria', 'idade': 62, 'sexo': 'F', 'renda': 6000.0, 'estado': 'PE'}, {'nome': 'Alex', 'idade': 61, 'sexo': 'M', 'renda': 11000.0, 'estado': 'PE'}]\n",
      "SP:  [{'nome': 'Carla', 'idade': 28, 'sexo': 'F', 'renda': 5300.0, 'estado': 'SP'}, {'nome': 'Leandro', 'idade': 35, 'sexo': 'M', 'renda': 7500.0, 'estado': 'SP'}]\n"
     ]
    }
   ],
   "source": [
    "# 3\n",
    "\n",
    "def filtre_dados_por_estado(cadastros):\n",
    "  cadastros_pe = []\n",
    "  cadastros_sp = []\n",
    "\n",
    "  for chave in cadastros:\n",
    "    item = cadastros[chave][\"estado\"]\n",
    "\n",
    "    if item == \"PE\":\n",
    "      cadastros_pe.append(cadastros[chave])\n",
    "      \n",
    "    elif item == \"SP\":\n",
    "      cadastros_sp.append(cadastros[chave])\n",
    "\n",
    "  print('PE: ', cadastros_pe)\n",
    "  print('SP: ', cadastros_sp)\n",
    "\n",
    "filtre_dados_por_estado(cadastros)"
   ]
  },
  {
   "cell_type": "code",
   "execution_count": 18,
   "metadata": {},
   "outputs": [
    {
     "data": {
      "text/plain": [
       "{'2850': {'nome': 'Carla',\n",
       "  'idade': 28,\n",
       "  'sexo': 'F',\n",
       "  'renda': 5300.0,\n",
       "  'estado': 'SP'},\n",
       " '0813': {'nome': 'Leandro',\n",
       "  'idade': 35,\n",
       "  'sexo': 'M',\n",
       "  'renda': 7500.0,\n",
       "  'estado': 'SP'}}"
      ]
     },
     "execution_count": 18,
     "metadata": {},
     "output_type": "execute_result"
    }
   ],
   "source": [
    "# 3 \n",
    "\n",
    "def filtre_dados_por_estado(cadastros, estado):\n",
    "  cadastros_filtrados = {}\n",
    "\n",
    "  for cpf, info in cadastros.items():\n",
    "    if info[\"estado\"] == estado.upper():\n",
    "      cadastros_filtrados[cpf] = info\n",
    "\n",
    "  return cadastros_filtrados\n",
    "\n",
    "filtre_dados_por_estado(cadastros, 'SP')"
   ]
  },
  {
   "cell_type": "code",
   "execution_count": 19,
   "metadata": {},
   "outputs": [
    {
     "data": {
      "text/plain": [
       "{'0876': {'nome': 'Felipe',\n",
       "  'idade': 30,\n",
       "  'sexo': 'M',\n",
       "  'renda': 9500.0,\n",
       "  'estado': 'PE'},\n",
       " '4716': {'nome': 'Maria',\n",
       "  'idade': 62,\n",
       "  'sexo': 'F',\n",
       "  'renda': 6000.0,\n",
       "  'estado': 'PE'},\n",
       " '4226': {'nome': 'Alex',\n",
       "  'idade': 61,\n",
       "  'sexo': 'M',\n",
       "  'renda': 11000.0,\n",
       "  'estado': 'PE'},\n",
       " '2850': {'nome': 'Carla',\n",
       "  'idade': 28,\n",
       "  'sexo': 'F',\n",
       "  'renda': 5300.0,\n",
       "  'estado': 'SP'},\n",
       " '0813': {'nome': 'Leandro',\n",
       "  'idade': 35,\n",
       "  'sexo': 'M',\n",
       "  'renda': 7500.0,\n",
       "  'estado': 'SP'}}"
      ]
     },
     "execution_count": 19,
     "metadata": {},
     "output_type": "execute_result"
    }
   ],
   "source": [
    "# 4\n",
    "\n",
    "def delete_cadastro(cadastros, cpf):\n",
    "  if cpf in cadastros:\n",
    "    del cadastros[cpf]\n",
    "  else:\n",
    "    print(f\"Cadastro com CPF {cpf} não existe na base.\")\n",
    "    \n",
    "  return cadastros\n",
    "\n",
    "delete_cadastro(cadastros, '1682')"
   ]
  },
  {
   "cell_type": "markdown",
   "metadata": {
    "id": "EmoT0RZlBsd4"
   },
   "source": [
    "**Desafio**\n",
    "\n",
    "Escreva um programa que pergunte uma string para a pessoa usuária e retorne um dicionário cujas chaves são os caracteres da string de entrada e os valores a ocorrência de cada caracter na string.\n",
    "\n",
    "Por exemplo:\n",
    "\n",
    "Na string `language` o programa deve retornar o dicionário:\n",
    "\n",
    "```python\n",
    "{'l': 1, 'a': 2, 'n': 1, 'g': 2, 'e': 1}\n",
    "```"
   ]
  },
  {
   "cell_type": "code",
   "execution_count": 77,
   "metadata": {
    "colab": {
     "base_uri": "https://localhost:8080/"
    },
    "executionInfo": {
     "elapsed": 6,
     "status": "ok",
     "timestamp": 1665169064461,
     "user": {
      "displayName": "Gilberto Kaihami",
      "userId": "07651446941847976228"
     },
     "user_tz": 180
    },
    "id": "8kc_yvSmCR5Y",
    "outputId": "4ac350e2-9c32-4c97-944b-06c76a7a7c1b"
   },
   "outputs": [
    {
     "data": {
      "text/plain": [
       "{'b': 1, 'a': 3, 'n': 2}"
      ]
     },
     "execution_count": 77,
     "metadata": {},
     "output_type": "execute_result"
    }
   ],
   "source": [
    "def contagem_char():\n",
    "  string = input(\"Digite uma string: \")\n",
    "  dict = {}\n",
    "\n",
    "  for char in string:\n",
    "    if char not in dict:\n",
    "      dict[char] = 1\n",
    "    else: \n",
    "      dict[char] += 1\n",
    "\n",
    "  return dict\n",
    "\n",
    "contagem_char()"
   ]
  },
  {
   "cell_type": "markdown",
   "metadata": {
    "id": "Qwwm-peiCSKf"
   },
   "source": [
    "**Desafio**\n",
    "\n",
    "Escreva um programa que aceite um inteiro (k) e retorne um dicionário em que a chave é um inteiro de 1 até o valor (k) e os valores são o fatorial desses (1!, 2!, ..., k!).\n",
    "\n",
    "Por exemplo:  \n",
    "Entrada k=1\n",
    "```\n",
    "{1: 1!}\n",
    "```\n",
    "\n",
    "Entrada k=2\n",
    "```\n",
    "{1: 1!,\n",
    " 2: 2!}\n",
    "```\n",
    "\n",
    "Entrada k=5\n",
    "```\n",
    "{1: 1!,\n",
    " 2: 2!,\n",
    " 3: 3!,\n",
    " 4: 4!,\n",
    " 5: 5!}\n",
    "```"
   ]
  },
  {
   "cell_type": "code",
   "execution_count": 90,
   "metadata": {},
   "outputs": [
    {
     "data": {
      "text/plain": [
       "720"
      ]
     },
     "execution_count": 90,
     "metadata": {},
     "output_type": "execute_result"
    }
   ],
   "source": [
    "def fatorial(num):\n",
    "  if num == 0 or num == 1:\n",
    "    return 1\n",
    "  else:\n",
    "    return num * fatorial(num - 1)\n",
    "  \n",
    "fatorial(6)"
   ]
  },
  {
   "cell_type": "code",
   "execution_count": 101,
   "metadata": {
    "colab": {
     "base_uri": "https://localhost:8080/"
    },
    "executionInfo": {
     "elapsed": 4,
     "status": "ok",
     "timestamp": 1665169226594,
     "user": {
      "displayName": "Gilberto Kaihami",
      "userId": "07651446941847976228"
     },
     "user_tz": 180
    },
    "id": "SLFdDBGh0fGr",
    "outputId": "8a2be80d-5a39-4857-c75a-a3edd785279c"
   },
   "outputs": [
    {
     "data": {
      "text/plain": [
       "{1: 1, 2: 2, 3: 6, 4: 24, 5: 120, 6: 720, 7: 5040, 8: 40320}"
      ]
     },
     "execution_count": 101,
     "metadata": {},
     "output_type": "execute_result"
    }
   ],
   "source": [
    "def dict_factorial(k):\n",
    "  dict = {}\n",
    "\n",
    "  for i in range(1, k+1):\n",
    "    dict[i] = fatorial(i)\n",
    "\n",
    "  return dict\n",
    "\n",
    "dict_factorial(8)"
   ]
  },
  {
   "cell_type": "markdown",
   "metadata": {
    "id": "AWuaSDNgDVN9"
   },
   "source": [
    "Considere que temos um dicionário de tamanho N.\n",
    "\n",
    "Com os nomes sendo as chaves e as notas sendo os valores\n",
    "\n",
    "```\n",
    "{'Alex': [10, 5, 3],\n",
    " 'Maria': [5, 7, 6.5],\n",
    " ...}\n",
    "```\n",
    "Escreva um programa que pegue esse dicionário e retorne um novo dicionário com as chaves sendo os nomes dos estudantes e os valores a média de suas notas:\n",
    "\n",
    "```\n",
    "{'Alex': 6.0,\n",
    " 'Maria': 6.16\n",
    " ...\n",
    "```\n"
   ]
  },
  {
   "cell_type": "code",
   "execution_count": 8,
   "metadata": {
    "colab": {
     "base_uri": "https://localhost:8080/"
    },
    "executionInfo": {
     "elapsed": 5,
     "status": "ok",
     "timestamp": 1665169327571,
     "user": {
      "displayName": "Gilberto Kaihami",
      "userId": "07651446941847976228"
     },
     "user_tz": 180
    },
    "id": "ztWiPNbYD0oE",
    "outputId": "ae67e056-937e-4b1b-eda5-d9c2a477b214"
   },
   "outputs": [
    {
     "data": {
      "text/plain": [
       "{'Alex': 6.0, 'Maria': 6.17, 'Diego': 6.0, 'Thaisa': 7.0}"
      ]
     },
     "execution_count": 8,
     "metadata": {},
     "output_type": "execute_result"
    }
   ],
   "source": [
    "dicionario = {\n",
    "  'Alex': [10, 5, 3],\n",
    "  'Maria': [5, 7, 6.5],\n",
    "  'Diego': [7, 3, 8],\n",
    "  'Thaisa': [6, 8, 7],\n",
    "}\n",
    "\n",
    "def media_alunos(dicionario):\n",
    "  for chave in dicionario:\n",
    "    media = sum(dicionario[chave])/len(dicionario[chave])\n",
    "    dicionario[chave] = round(media, 2)\n",
    "\n",
    "  return dicionario \n",
    "\n",
    "media_alunos(dicionario)"
   ]
  }
 ],
 "metadata": {
  "colab": {
   "authorship_tag": "ABX9TyMd5TYisChQ73p24ogYLmpX",
   "collapsed_sections": [],
   "provenance": []
  },
  "kernelspec": {
   "display_name": "Python 3",
   "language": "python",
   "name": "python3"
  },
  "language_info": {
   "codemirror_mode": {
    "name": "ipython",
    "version": 3
   },
   "file_extension": ".py",
   "mimetype": "text/x-python",
   "name": "python",
   "nbconvert_exporter": "python",
   "pygments_lexer": "ipython3",
   "version": "3.9.5"
  }
 },
 "nbformat": 4,
 "nbformat_minor": 1
}

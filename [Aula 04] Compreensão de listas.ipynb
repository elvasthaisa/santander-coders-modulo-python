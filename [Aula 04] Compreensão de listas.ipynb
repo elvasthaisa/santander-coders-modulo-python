{
 "cells": [
  {
   "cell_type": "markdown",
   "metadata": {
    "id": "QQ3dr1t_PxnO"
   },
   "source": [
    "# Aula 04 - Set e Compreensão de listas\n",
    "\n",
    "Na aula de hoje, iremos explorar os seguintes tópicos em Python:\n",
    "- set\n",
    "- Compreensão de listas"
   ]
  },
  {
   "cell_type": "markdown",
   "metadata": {},
   "source": [
    "## Set\n",
    "\n",
    "Como **list**, **tuple** e **dict**, **set** é uma estrutura utilizada para armazenar múltiplas variáveis em apenas uma. \n",
    "É uma coleção de não ordenados, não mutável, não indexável e que não aceita repetição.\n",
    "\n",
    "**Não ordenada:** A cada chamada, a ordem dos itens pode aparecer diferente, não sendo referenciado por um index ou uma chave.\n",
    "\n",
    "**Não mutável:** Uma vez que o set é criado, não se pode mudar os itens, mas podemos remover ou adicionar novos itens ao set.\n",
    "\n",
    "Vejamos abaixo como utilizá-la!"
   ]
  },
  {
   "cell_type": "code",
   "execution_count": 17,
   "metadata": {},
   "outputs": [
    {
     "name": "stdout",
     "output_type": "stream",
     "text": [
      "<class 'list'>\n",
      "<class 'tuple'>\n",
      "<class 'dict'>\n",
      "<class 'dict'>\n",
      "---\n",
      "<class 'set'>\n"
     ]
    }
   ],
   "source": [
    "print(type([1]))\n",
    "print(type((1,2)))\n",
    "print(type({}))\n",
    "print(type({'chave': 'valor'}))\n",
    "print('---')\n",
    "print(type({'set'}))"
   ]
  },
  {
   "cell_type": "code",
   "execution_count": 7,
   "metadata": {},
   "outputs": [],
   "source": [
    "conjunto_1 = set() # gera um set\n",
    "conjunto_2 = {}\n",
    "conjunto_3 = {'apple'} # apesar da utilização de chaves, não é dicionário, por não ter estrutura chave-valor"
   ]
  },
  {
   "cell_type": "code",
   "execution_count": 9,
   "metadata": {},
   "outputs": [
    {
     "name": "stdout",
     "output_type": "stream",
     "text": [
      "Conjunto 1: set(), tipo: <class 'set'>\n",
      "Conjunto 2: {}, tipo: <class 'dict'>\n",
      "Conjunto 3: {'apple'}, tipo: <class 'set'>\n"
     ]
    }
   ],
   "source": [
    "print(f\"Conjunto 1: {conjunto_1}, tipo: {type(conjunto_1)}\")\n",
    "print(f\"Conjunto 2: {conjunto_2}, tipo: {type(conjunto_2)}\")\n",
    "print(f\"Conjunto 3: {conjunto_3}, tipo: {type(conjunto_3)}\")"
   ]
  },
  {
   "cell_type": "code",
   "execution_count": 2,
   "metadata": {},
   "outputs": [
    {
     "data": {
      "text/plain": [
       "set()"
      ]
     },
     "execution_count": 2,
     "metadata": {},
     "output_type": "execute_result"
    }
   ],
   "source": [
    "conjunto_1"
   ]
  },
  {
   "cell_type": "code",
   "execution_count": 3,
   "metadata": {},
   "outputs": [
    {
     "data": {
      "text/plain": [
       "set"
      ]
     },
     "execution_count": 3,
     "metadata": {},
     "output_type": "execute_result"
    }
   ],
   "source": [
    "type(conjunto_1)"
   ]
  },
  {
   "cell_type": "code",
   "execution_count": 18,
   "metadata": {},
   "outputs": [],
   "source": [
    "lista_de_alunos_sem_repeticao = {'Lucas', 'Fernanda', 'Levy'}"
   ]
  },
  {
   "cell_type": "code",
   "execution_count": 19,
   "metadata": {},
   "outputs": [
    {
     "data": {
      "text/plain": [
       "{'Fernanda', 'Levy', 'Lucas'}"
      ]
     },
     "execution_count": 19,
     "metadata": {},
     "output_type": "execute_result"
    }
   ],
   "source": [
    "lista_de_alunos_sem_repeticao"
   ]
  },
  {
   "cell_type": "code",
   "execution_count": 20,
   "metadata": {},
   "outputs": [
    {
     "data": {
      "text/plain": [
       "set"
      ]
     },
     "execution_count": 20,
     "metadata": {},
     "output_type": "execute_result"
    }
   ],
   "source": [
    "type(lista_de_alunos_sem_repeticao)"
   ]
  },
  {
   "cell_type": "code",
   "execution_count": 21,
   "metadata": {},
   "outputs": [
    {
     "ename": "TypeError",
     "evalue": "'set' object is not subscriptable",
     "output_type": "error",
     "traceback": [
      "\u001b[1;31m---------------------------------------------------------------------------\u001b[0m",
      "\u001b[1;31mTypeError\u001b[0m                                 Traceback (most recent call last)",
      "\u001b[1;32m<ipython-input-21-05a36a0e40ed>\u001b[0m in \u001b[0;36m<module>\u001b[1;34m\u001b[0m\n\u001b[0;32m      1\u001b[0m \u001b[1;31m# Não conseguimos indexar um set!\u001b[0m\u001b[1;33m\u001b[0m\u001b[1;33m\u001b[0m\u001b[1;33m\u001b[0m\u001b[0m\n\u001b[1;32m----> 2\u001b[1;33m \u001b[0mlista_de_alunos_sem_repeticao\u001b[0m\u001b[1;33m[\u001b[0m\u001b[1;36m0\u001b[0m\u001b[1;33m]\u001b[0m\u001b[1;33m\u001b[0m\u001b[1;33m\u001b[0m\u001b[0m\n\u001b[0m",
      "\u001b[1;31mTypeError\u001b[0m: 'set' object is not subscriptable"
     ]
    }
   ],
   "source": [
    "# Não conseguimos indexar um set!\n",
    "lista_de_alunos_sem_repeticao[0]"
   ]
  },
  {
   "cell_type": "code",
   "execution_count": 22,
   "metadata": {},
   "outputs": [
    {
     "name": "stdout",
     "output_type": "stream",
     "text": [
      "Lucas\n",
      "Levy\n",
      "Fernanda\n"
     ]
    }
   ],
   "source": [
    "# mas conseguimos iterar\n",
    "for aluno in lista_de_alunos_sem_repeticao:\n",
    "    print(aluno)"
   ]
  },
  {
   "cell_type": "code",
   "execution_count": 24,
   "metadata": {},
   "outputs": [],
   "source": [
    "lista_produtos = [\"Produto1\", \"Produto2\", \"Produto1\", \"Produto3\", \"Produto3\", \"Produto1\"]"
   ]
  },
  {
   "cell_type": "code",
   "execution_count": 25,
   "metadata": {},
   "outputs": [
    {
     "data": {
      "text/plain": [
       "['Produto1', 'Produto2', 'Produto1', 'Produto3', 'Produto3', 'Produto1']"
      ]
     },
     "execution_count": 25,
     "metadata": {},
     "output_type": "execute_result"
    }
   ],
   "source": [
    "lista_produtos"
   ]
  },
  {
   "cell_type": "code",
   "execution_count": 26,
   "metadata": {},
   "outputs": [
    {
     "data": {
      "text/plain": [
       "{'Produto1', 'Produto2', 'Produto3'}"
      ]
     },
     "execution_count": 26,
     "metadata": {},
     "output_type": "execute_result"
    }
   ],
   "source": [
    "set(lista_produtos)"
   ]
  },
  {
   "cell_type": "code",
   "execution_count": 27,
   "metadata": {},
   "outputs": [
    {
     "data": {
      "text/plain": [
       "{'Fernanda', 'Levy', 'Lucas'}"
      ]
     },
     "execution_count": 27,
     "metadata": {},
     "output_type": "execute_result"
    }
   ],
   "source": [
    "# Podemos adicionar novos elementos ao set\n",
    "lista_de_alunos_sem_repeticao"
   ]
  },
  {
   "cell_type": "code",
   "execution_count": 28,
   "metadata": {},
   "outputs": [],
   "source": [
    "lista_de_alunos_sem_repeticao.add(\"Guilherme\")"
   ]
  },
  {
   "cell_type": "code",
   "execution_count": 29,
   "metadata": {},
   "outputs": [
    {
     "data": {
      "text/plain": [
       "{'Fernanda', 'Guilherme', 'Levy', 'Lucas'}"
      ]
     },
     "execution_count": 29,
     "metadata": {},
     "output_type": "execute_result"
    }
   ],
   "source": [
    "lista_de_alunos_sem_repeticao"
   ]
  },
  {
   "cell_type": "code",
   "execution_count": 30,
   "metadata": {},
   "outputs": [],
   "source": [
    "# Também conseguimos remover\n",
    "lista_de_alunos_sem_repeticao.remove(\"Lucas\")"
   ]
  },
  {
   "cell_type": "code",
   "execution_count": 31,
   "metadata": {},
   "outputs": [
    {
     "data": {
      "text/plain": [
       "{'Fernanda', 'Guilherme', 'Levy'}"
      ]
     },
     "execution_count": 31,
     "metadata": {},
     "output_type": "execute_result"
    }
   ],
   "source": [
    "lista_de_alunos_sem_repeticao"
   ]
  },
  {
   "cell_type": "code",
   "execution_count": 32,
   "metadata": {},
   "outputs": [],
   "source": [
    "lista_de_alunos_sem_repeticao.clear() # \"limpamos\" o set"
   ]
  },
  {
   "cell_type": "code",
   "execution_count": 33,
   "metadata": {},
   "outputs": [
    {
     "name": "stdout",
     "output_type": "stream",
     "text": [
      "set()\n"
     ]
    }
   ],
   "source": [
    "print(lista_de_alunos_sem_repeticao)"
   ]
  },
  {
   "cell_type": "code",
   "execution_count": 34,
   "metadata": {},
   "outputs": [
    {
     "ename": "NameError",
     "evalue": "name 'lista_de_alunos_sem_repeticao' is not defined",
     "output_type": "error",
     "traceback": [
      "\u001b[1;31m---------------------------------------------------------------------------\u001b[0m",
      "\u001b[1;31mNameError\u001b[0m                                 Traceback (most recent call last)",
      "\u001b[1;32m<ipython-input-34-62343137a75d>\u001b[0m in \u001b[0;36m<module>\u001b[1;34m\u001b[0m\n\u001b[0;32m      1\u001b[0m \u001b[1;32mdel\u001b[0m \u001b[0mlista_de_alunos_sem_repeticao\u001b[0m\u001b[1;33m\u001b[0m\u001b[1;33m\u001b[0m\u001b[0m\n\u001b[1;32m----> 2\u001b[1;33m \u001b[0mprint\u001b[0m\u001b[1;33m(\u001b[0m\u001b[0mlista_de_alunos_sem_repeticao\u001b[0m\u001b[1;33m)\u001b[0m\u001b[1;33m\u001b[0m\u001b[1;33m\u001b[0m\u001b[0m\n\u001b[0m",
      "\u001b[1;31mNameError\u001b[0m: name 'lista_de_alunos_sem_repeticao' is not defined"
     ]
    }
   ],
   "source": [
    "del lista_de_alunos_sem_repeticao # deleta a variável\n",
    "print(lista_de_alunos_sem_repeticao)"
   ]
  },
  {
   "cell_type": "code",
   "execution_count": 36,
   "metadata": {},
   "outputs": [
    {
     "name": "stdout",
     "output_type": "stream",
     "text": [
      "{1, 2, 3, 4, 5}\n",
      "{33, 2, 5, 11, 44}\n"
     ]
    }
   ],
   "source": [
    "# set é um conjunto não ordenado\n",
    "st1 = set()\n",
    "st1.add(1)\n",
    "st1.add(4)\n",
    "st1.add(3)\n",
    "st1.add(5)\n",
    "st1.add(2)\n",
    "print(st1)\n",
    "\n",
    "st2 = set()\n",
    "st2.add(2)\n",
    "st2.add(44)\n",
    "st2.add(11)\n",
    "st2.add(5)\n",
    "st2.add(33)\n",
    "print(st2)"
   ]
  },
  {
   "cell_type": "markdown",
   "metadata": {},
   "source": [
    "Podemos também juntar dois **sets** de dados "
   ]
  },
  {
   "cell_type": "code",
   "execution_count": 37,
   "metadata": {},
   "outputs": [
    {
     "name": "stdout",
     "output_type": "stream",
     "text": [
      "{1, 2, 3, 'c', 'a', 'b'}\n"
     ]
    }
   ],
   "source": [
    "set1 = {\"a\", \"b\", \"c\"}\n",
    "set2 = {1, 2, 3}\n",
    "\n",
    "set3 = set1.union(set2)\n",
    "print(set3)"
   ]
  },
  {
   "cell_type": "code",
   "execution_count": 38,
   "metadata": {},
   "outputs": [
    {
     "name": "stdout",
     "output_type": "stream",
     "text": [
      "1\n",
      "2\n",
      "3\n",
      "c\n",
      "a\n",
      "b\n"
     ]
    }
   ],
   "source": [
    "for elemento in set3:\n",
    "    print(elemento)"
   ]
  },
  {
   "cell_type": "code",
   "execution_count": 40,
   "metadata": {},
   "outputs": [
    {
     "ename": "TypeError",
     "evalue": "'set' object is not subscriptable",
     "output_type": "error",
     "traceback": [
      "\u001b[1;31m---------------------------------------------------------------------------\u001b[0m",
      "\u001b[1;31mTypeError\u001b[0m                                 Traceback (most recent call last)",
      "\u001b[1;32m<ipython-input-40-23dab05f1c83>\u001b[0m in \u001b[0;36m<module>\u001b[1;34m\u001b[0m\n\u001b[1;32m----> 1\u001b[1;33m \u001b[0mset3\u001b[0m\u001b[1;33m[\u001b[0m\u001b[1;36m2\u001b[0m\u001b[1;33m:\u001b[0m\u001b[1;36m4\u001b[0m\u001b[1;33m]\u001b[0m\u001b[1;33m\u001b[0m\u001b[1;33m\u001b[0m\u001b[0m\n\u001b[0m",
      "\u001b[1;31mTypeError\u001b[0m: 'set' object is not subscriptable"
     ]
    }
   ],
   "source": [
    "set3[2:4]"
   ]
  },
  {
   "cell_type": "markdown",
   "metadata": {},
   "source": [
    "E utilizar os métodos de conjuntos matemáticos que conhecemos:\n",
    "\n",
    "`difference`, `intersection`, `union`, [entre outros](https://www.w3schools.com/python/python_sets_methods.asp)"
   ]
  },
  {
   "cell_type": "markdown",
   "metadata": {},
   "source": [
    "Vimos portanto que:\n",
    "\n",
    "- **set** é uma coleção de objetos únicos, não indexável e não ordenada.\n",
    "\n",
    "Em muitas situações, poderá ser útil trabalhar com essa estrutura, já que podemos obter, de todo um conjunto de dados/informações, apenas os valores únicos."
   ]
  },
  {
   "cell_type": "markdown",
   "metadata": {},
   "source": [
    "### Recapitulando...\n",
    "\n",
    "- **List** is a collection which is ordered and changeable. Allows duplicate members.\n",
    "- **Tuple** is a collection which is ordered and unchangeable. Allows duplicate members.\n",
    "- **Set** is a collection which is unordered, unchangeable*, and unindexed. No duplicate members.\n",
    "- **Dictionary** is a collection which is ordered** and changeable. No duplicate members.\n",
    "\n",
    "\n",
    "*Set items are unchangeable, but you can remove items and add new items.\n",
    "\n",
    "**As of Python version 3.7, dictionaries are ordered. In Python 3.6 and earlier, dictionaries are unordered."
   ]
  },
  {
   "cell_type": "markdown",
   "metadata": {
    "id": "Hijw7hatRDOo"
   },
   "source": [
    "___\n",
    "## Compreensão de listas\n",
    "\n",
    "\n",
    "Uma abordagem extremamente útil em python é a __compreensão de listas__ (list comprehension), com a qual é possível construir listas novas a partir de outras listas de forma bem condensada!\n",
    "\n",
    "A sintaxe é: \n",
    "\n",
    "```python\n",
    "[operacao_sobre_os_items for item in lista_base]\n",
    "```"
   ]
  },
  {
   "cell_type": "markdown",
   "metadata": {
    "id": "rpjCgSCYROtz"
   },
   "source": [
    "Por exemplo, imagine que queremos o dobro de cada número dentro de uma lista.\n",
    "\n",
    "Uma forma de realizar essa tarefa é utilizando o laço `for`."
   ]
  },
  {
   "cell_type": "code",
   "execution_count": 41,
   "metadata": {
    "id": "sL5H_aPwPoaW"
   },
   "outputs": [],
   "source": [
    "numeros = [1, 2, 3, 5, 153, -56, -1247]"
   ]
  },
  {
   "cell_type": "code",
   "execution_count": 42,
   "metadata": {
    "colab": {
     "base_uri": "https://localhost:8080/"
    },
    "executionInfo": {
     "elapsed": 4,
     "status": "ok",
     "timestamp": 1664992395050,
     "user": {
      "displayName": "Gilberto Kaihami",
      "userId": "07651446941847976228"
     },
     "user_tz": 180
    },
    "id": "1GSDVHMhRifO",
    "outputId": "60aaccc0-893d-4095-9e08-5fee5451f65b"
   },
   "outputs": [],
   "source": [
    "dobro_numeros = []\n",
    "\n",
    "for numero in numeros:\n",
    "    dobro = numero * 2\n",
    "    dobro_numeros.append(dobro)"
   ]
  },
  {
   "cell_type": "code",
   "execution_count": 43,
   "metadata": {},
   "outputs": [
    {
     "data": {
      "text/plain": [
       "[2, 4, 6, 10, 306, -112, -2494]"
      ]
     },
     "execution_count": 43,
     "metadata": {},
     "output_type": "execute_result"
    }
   ],
   "source": [
    "dobro_numeros"
   ]
  },
  {
   "cell_type": "markdown",
   "metadata": {
    "id": "YesY1cthR9uT"
   },
   "source": [
    "Utilizando a compreensão de listas temos:\n",
    "\n",
    "Para cada número dentro de numeros: `for numero in numeros`\n",
    "\n",
    "Calcule o dobro: `numero * 2`\n",
    "\n",
    "Logo:\n",
    "\n",
    "```\n",
    "[ numero * 2 for   numero    in   numeros   ]\n",
    ". <resultado>     <elemento>     <elementos>\n",
    "```\n",
    "\n",
    "\n"
   ]
  },
  {
   "cell_type": "code",
   "execution_count": 44,
   "metadata": {
    "id": "kaekQQ4bRiO_"
   },
   "outputs": [],
   "source": [
    "dobro_numeros_compreensao_de_listas = [numero * 2 for numero in numeros]"
   ]
  },
  {
   "cell_type": "code",
   "execution_count": 45,
   "metadata": {
    "colab": {
     "base_uri": "https://localhost:8080/"
    },
    "executionInfo": {
     "elapsed": 5,
     "status": "ok",
     "timestamp": 1664992721080,
     "user": {
      "displayName": "Gilberto Kaihami",
      "userId": "07651446941847976228"
     },
     "user_tz": 180
    },
    "id": "d1b68VbCTJJW",
    "outputId": "51482f50-a79b-4769-b029-58a19ff232ea"
   },
   "outputs": [
    {
     "data": {
      "text/plain": [
       "[2, 4, 6, 10, 306, -112, -2494]"
      ]
     },
     "execution_count": 45,
     "metadata": {},
     "output_type": "execute_result"
    }
   ],
   "source": [
    "dobro_numeros_compreensao_de_listas"
   ]
  },
  {
   "cell_type": "markdown",
   "metadata": {},
   "source": [
    "Veja, assim, que o código fica consideravelmente mais \"limpo\"! Note, contudo, que a estrutura do **for** continua presente; o que alteramos foi, apenas, a maneira como escrevemos e criamos a lista."
   ]
  },
  {
   "cell_type": "markdown",
   "metadata": {
    "id": "Roz-v35mT8cD"
   },
   "source": [
    "Também é possível construir uma lista usando compreensão de listas com base em alguma estrutura condicional!\n",
    "\n",
    "Se você for utilizar apenas o if, a sintaxe é:\n",
    "\n",
    "```python\n",
    "[operacao_sobre_os_items for item in lista_base if condicao]\n",
    "```"
   ]
  },
  {
   "cell_type": "code",
   "execution_count": 46,
   "metadata": {
    "colab": {
     "base_uri": "https://localhost:8080/"
    },
    "executionInfo": {
     "elapsed": 232,
     "status": "ok",
     "timestamp": 1664993080526,
     "user": {
      "displayName": "Gilberto Kaihami",
      "userId": "07651446941847976228"
     },
     "user_tz": 180
    },
    "id": "UviQbrLjTLb5",
    "outputId": "657f7080-b942-43d4-98d4-3c5e0fdefff2"
   },
   "outputs": [
    {
     "name": "stdout",
     "output_type": "stream",
     "text": [
      "[2, 4, 10, 30]\n"
     ]
    }
   ],
   "source": [
    "# Vamos criar uma lista que colete apenas números pares de uma lista base\n",
    "lista_base = [1, 2, 3, 4, 5, 10, 21, 23, 27, 29, 30]\n",
    "\n",
    "# forma \"tradicional\"\n",
    "lista_pares = []\n",
    "for num in lista_base:\n",
    "    if num %2 == 0:\n",
    "        lista_pares.append(num)\n",
    "\n",
    "print(lista_pares)"
   ]
  },
  {
   "cell_type": "code",
   "execution_count": 54,
   "metadata": {
    "id": "GvgpApXGUi8E"
   },
   "outputs": [],
   "source": [
    "lista_pares_comp = [num \n",
    "                    for num in lista_base \n",
    "                    if num%2 == 0]"
   ]
  },
  {
   "cell_type": "code",
   "execution_count": 55,
   "metadata": {
    "colab": {
     "base_uri": "https://localhost:8080/"
    },
    "executionInfo": {
     "elapsed": 5,
     "status": "ok",
     "timestamp": 1664993134464,
     "user": {
      "displayName": "Gilberto Kaihami",
      "userId": "07651446941847976228"
     },
     "user_tz": 180
    },
    "id": "T3mV-gHqUnbj",
    "outputId": "d8b09688-3024-4390-9eb2-5e7850e30990"
   },
   "outputs": [
    {
     "data": {
      "text/plain": [
       "[2, 4, 10, 30]"
      ]
     },
     "execution_count": 55,
     "metadata": {},
     "output_type": "execute_result"
    }
   ],
   "source": [
    "lista_pares_comp"
   ]
  },
  {
   "cell_type": "markdown",
   "metadata": {
    "id": "wUD3Qo_lUzT2"
   },
   "source": [
    "Caso você queira utilizar também o else como parte da estrutura condicional, a sintaxe muda um pouco:\n",
    "\n",
    "```python\n",
    "[valor_caso_if if condicao else valor_caso_else for item in lista_base]\n",
    "```"
   ]
  },
  {
   "cell_type": "code",
   "execution_count": 56,
   "metadata": {
    "colab": {
     "base_uri": "https://localhost:8080/"
    },
    "executionInfo": {
     "elapsed": 243,
     "status": "ok",
     "timestamp": 1664993299990,
     "user": {
      "displayName": "Gilberto Kaihami",
      "userId": "07651446941847976228"
     },
     "user_tz": 180
    },
    "id": "B1IpIbN9U7ey",
    "outputId": "153ec38c-1503-454a-db50-fdfd093cbc2d"
   },
   "outputs": [
    {
     "name": "stdout",
     "output_type": "stream",
     "text": [
      "['Ímpar', 'Par', 'Ímpar', 'Par', 'Ímpar', 'Par', 'Ímpar', 'Ímpar', 'Ímpar', 'Ímpar', 'Par']\n"
     ]
    }
   ],
   "source": [
    "# Criar uma lista que diga se o número é ímpar ou par a partir da lista base\n",
    "lista_base = [1, 2, 3, 4, 5, 10, 21, 23, 27, 29, 30]\n",
    "\n",
    "# método \"tradicional\"\n",
    "par_ou_impar = []\n",
    "for num in lista_base:\n",
    "    if num % 2 == 0:\n",
    "        par_ou_impar.append(\"Par\")\n",
    "    else:\n",
    "        par_ou_impar.append(\"Ímpar\")\n",
    "print(par_ou_impar)"
   ]
  },
  {
   "cell_type": "code",
   "execution_count": 59,
   "metadata": {
    "colab": {
     "base_uri": "https://localhost:8080/"
    },
    "executionInfo": {
     "elapsed": 228,
     "status": "ok",
     "timestamp": 1664993319861,
     "user": {
      "displayName": "Gilberto Kaihami",
      "userId": "07651446941847976228"
     },
     "user_tz": 180
    },
    "id": "WfdkCJFbU3so",
    "outputId": "b8b50b2b-3463-4a64-d734-4b19bdcd1ec4"
   },
   "outputs": [],
   "source": [
    "par_ou_impar_comp = [\n",
    "    \"Par\" if x % 2 == 0 \n",
    "     else \"Ímpar\" \n",
    "     for x in lista_base\n",
    "]"
   ]
  },
  {
   "cell_type": "code",
   "execution_count": 60,
   "metadata": {
    "colab": {
     "base_uri": "https://localhost:8080/"
    },
    "executionInfo": {
     "elapsed": 4,
     "status": "ok",
     "timestamp": 1664993343984,
     "user": {
      "displayName": "Gilberto Kaihami",
      "userId": "07651446941847976228"
     },
     "user_tz": 180
    },
    "id": "__CQwCubU7JU",
    "outputId": "e8e05ffa-8bfd-4553-e955-e8fc3e31b140"
   },
   "outputs": [
    {
     "data": {
      "text/plain": [
       "['Ímpar',\n",
       " 'Par',\n",
       " 'Ímpar',\n",
       " 'Par',\n",
       " 'Ímpar',\n",
       " 'Par',\n",
       " 'Ímpar',\n",
       " 'Ímpar',\n",
       " 'Ímpar',\n",
       " 'Ímpar',\n",
       " 'Par']"
      ]
     },
     "execution_count": 60,
     "metadata": {},
     "output_type": "execute_result"
    }
   ],
   "source": [
    "par_ou_impar_comp"
   ]
  },
  {
   "cell_type": "markdown",
   "metadata": {
    "id": "lJ7whJo2VqDX"
   },
   "source": [
    "Compreensão de listas usando `for` encadeados"
   ]
  },
  {
   "cell_type": "code",
   "execution_count": 61,
   "metadata": {
    "colab": {
     "base_uri": "https://localhost:8080/"
    },
    "executionInfo": {
     "elapsed": 329,
     "status": "ok",
     "timestamp": 1664993385852,
     "user": {
      "displayName": "Gilberto Kaihami",
      "userId": "07651446941847976228"
     },
     "user_tz": 180
    },
    "id": "Z6fi937yUoUP",
    "outputId": "122b103a-c4bb-461c-981f-17b3e94a0c72"
   },
   "outputs": [
    {
     "name": "stdout",
     "output_type": "stream",
     "text": [
      "1 x 5 = 5\n",
      "1 x 7 = 7\n",
      "1 x 8 = 8\n",
      "2 x 5 = 10\n",
      "2 x 7 = 14\n",
      "2 x 8 = 16\n",
      "3 x 5 = 15\n",
      "3 x 7 = 21\n",
      "3 x 8 = 24\n",
      "4 x 5 = 20\n",
      "4 x 7 = 28\n",
      "4 x 8 = 32\n",
      "5 x 5 = 25\n",
      "5 x 7 = 35\n",
      "5 x 8 = 40\n",
      "6 x 5 = 30\n",
      "6 x 7 = 42\n",
      "6 x 8 = 48\n"
     ]
    }
   ],
   "source": [
    "l1 = [1, 2, 3, 4, 5, 6]\n",
    "l2 = [5, 7, 8]\n",
    "\n",
    "for num1 in l1:\n",
    "    for num2 in l2:\n",
    "        print(num1, \"x\", num2, \"=\", num1*num2)"
   ]
  },
  {
   "cell_type": "markdown",
   "metadata": {
    "id": "3lata2qZVvKZ"
   },
   "source": [
    "**como fazer a operação acima com compreensão de listas**"
   ]
  },
  {
   "cell_type": "code",
   "execution_count": 65,
   "metadata": {
    "colab": {
     "base_uri": "https://localhost:8080/"
    },
    "executionInfo": {
     "elapsed": 3,
     "status": "ok",
     "timestamp": 1664993398832,
     "user": {
      "displayName": "Gilberto Kaihami",
      "userId": "07651446941847976228"
     },
     "user_tz": 180
    },
    "id": "G235hPGUVtnf",
    "outputId": "54a82555-e308-4f66-d927-eb8aba152757"
   },
   "outputs": [
    {
     "data": {
      "text/plain": [
       "[5, 7, 8, 10, 14, 16, 15, 21, 24, 20, 28, 32, 25, 35, 40, 30, 42, 48]"
      ]
     },
     "execution_count": 65,
     "metadata": {},
     "output_type": "execute_result"
    }
   ],
   "source": [
    "l1 = [1, 2, 3, 4, 5, 6]\n",
    "l2 = [5, 7, 8]\n",
    "\n",
    "[num1*num2 for num1 in l1 for num2 in l2]"
   ]
  },
  {
   "cell_type": "code",
   "execution_count": 67,
   "metadata": {},
   "outputs": [
    {
     "data": {
      "text/plain": [
       "[5, 10, 15, 20, 25, 30, 7, 14, 21, 28, 35, 42, 8, 16, 24, 32, 40, 48]"
      ]
     },
     "execution_count": 67,
     "metadata": {},
     "output_type": "execute_result"
    }
   ],
   "source": [
    "[num1*num2 for num2 in l2 for num1 in l1]"
   ]
  },
  {
   "cell_type": "code",
   "execution_count": 68,
   "metadata": {},
   "outputs": [
    {
     "ename": "SyntaxError",
     "evalue": "invalid syntax (<ipython-input-68-a75e3b7476d1>, line 1)",
     "output_type": "error",
     "traceback": [
      "\u001b[1;36m  File \u001b[1;32m\"<ipython-input-68-a75e3b7476d1>\"\u001b[1;36m, line \u001b[1;32m1\u001b[0m\n\u001b[1;33m    [for num1 in l1 for num2 in l2 num1*num2]\u001b[0m\n\u001b[1;37m     ^\u001b[0m\n\u001b[1;31mSyntaxError\u001b[0m\u001b[1;31m:\u001b[0m invalid syntax\n"
     ]
    }
   ],
   "source": [
    "[for num1 in l1 for num2 in l2 num1*num2]"
   ]
  },
  {
   "cell_type": "markdown",
   "metadata": {
    "id": "EFu3PCYQWF-I"
   },
   "source": [
    "Remova todas as vogais de uma dada string utilizando compreensões de lista.\n",
    "\n",
    "Por exemplo, em `\"banana\"` o retorno deve ser:  \n",
    "`\"bnn\"`\n",
    "\n",
    "Lembre da operação `\"\".join()`"
   ]
  },
  {
   "cell_type": "code",
   "execution_count": 13,
   "metadata": {},
   "outputs": [
    {
     "data": {
      "text/plain": [
       "'bnn'"
      ]
     },
     "execution_count": 13,
     "metadata": {},
     "output_type": "execute_result"
    }
   ],
   "source": [
    "lista_char = \" \".join(\"banana\").split()\n",
    "\n",
    "vogais = ['a', 'e', 'i', 'o', 'u']\n",
    "\n",
    "for char in lista_char:\n",
    "  if char in vogais:\n",
    "    lista_char.remove(char)\n",
    "\n",
    "\"\".join(lista_char)"
   ]
  },
  {
   "cell_type": "code",
   "execution_count": 14,
   "metadata": {},
   "outputs": [
    {
     "data": {
      "text/plain": [
       "'bnn'"
      ]
     },
     "execution_count": 14,
     "metadata": {},
     "output_type": "execute_result"
    }
   ],
   "source": [
    "lista_char_comp = [char for char in \"banana\" if char not in vogais]\n",
    "\n",
    "\"\".join(lista_char_comp)"
   ]
  },
  {
   "cell_type": "code",
   "execution_count": 15,
   "metadata": {},
   "outputs": [
    {
     "data": {
      "text/plain": [
       "['banana']"
      ]
     },
     "execution_count": 15,
     "metadata": {},
     "output_type": "execute_result"
    }
   ],
   "source": [
    "string = \"banana\"\n",
    "string.split()"
   ]
  },
  {
   "cell_type": "code",
   "execution_count": 104,
   "metadata": {},
   "outputs": [
    {
     "data": {
      "text/plain": [
       "['b', 'a', 'n', 'a', 'n', 'a']"
      ]
     },
     "execution_count": 104,
     "metadata": {},
     "output_type": "execute_result"
    }
   ],
   "source": [
    "\" \".join(\"banana\").split()"
   ]
  },
  {
   "cell_type": "code",
   "execution_count": 100,
   "metadata": {},
   "outputs": [
    {
     "data": {
      "text/plain": [
       "['b', 'a', 'n', 'a', 'n', 'a']"
      ]
     },
     "execution_count": 100,
     "metadata": {},
     "output_type": "execute_result"
    }
   ],
   "source": [
    "[char for char in string]"
   ]
  },
  {
   "cell_type": "code",
   "execution_count": 101,
   "metadata": {},
   "outputs": [
    {
     "data": {
      "text/plain": [
       "['b', 'n', 'n']"
      ]
     },
     "execution_count": 101,
     "metadata": {},
     "output_type": "execute_result"
    }
   ],
   "source": [
    "[char for char in string if char not in vogais]"
   ]
  },
  {
   "cell_type": "code",
   "execution_count": 98,
   "metadata": {},
   "outputs": [
    {
     "data": {
      "text/plain": [
       "'bnn'"
      ]
     },
     "execution_count": 98,
     "metadata": {},
     "output_type": "execute_result"
    }
   ],
   "source": [
    "\"\".join([char for char in string if char not in vogais])"
   ]
  },
  {
   "cell_type": "code",
   "execution_count": 107,
   "metadata": {},
   "outputs": [
    {
     "data": {
      "text/plain": [
       "['bnn', 'bcx', 'mm', 'v']"
      ]
     },
     "execution_count": 107,
     "metadata": {},
     "output_type": "execute_result"
    }
   ],
   "source": [
    "string = \"banana\"\n",
    "string2 = \"abacaxi\"\n",
    "string3 = \"mamao\"\n",
    "string4 = \"uva\"\n",
    "\n",
    "strings = []\n",
    "for s in [string, string2, string3, string4]:\n",
    "    resultado = \"\".join([char for char in s if char not in vogais])\n",
    "    strings.append(resultado)\n",
    "strings"
   ]
  },
  {
   "cell_type": "code",
   "execution_count": 108,
   "metadata": {},
   "outputs": [
    {
     "name": "stdout",
     "output_type": "stream",
     "text": [
      "a\n",
      "b\n",
      "c\n",
      "d\n",
      "e\n"
     ]
    }
   ],
   "source": [
    "for i in 'abcde':\n",
    "    print(i)"
   ]
  },
  {
   "cell_type": "code",
   "execution_count": 109,
   "metadata": {},
   "outputs": [
    {
     "name": "stdout",
     "output_type": "stream",
     "text": [
      "a\n",
      "b\n",
      "c\n",
      "d\n",
      "e\n"
     ]
    }
   ],
   "source": [
    "for i in ['a', 'b', 'c', 'd', 'e']:\n",
    "    print(i)"
   ]
  },
  {
   "cell_type": "markdown",
   "metadata": {
    "id": "M4NAwaGzZwLo"
   },
   "source": [
    "Utilizando compreensão de lista encadeadas."
   ]
  },
  {
   "cell_type": "code",
   "execution_count": 17,
   "metadata": {},
   "outputs": [
    {
     "name": "stdout",
     "output_type": "stream",
     "text": [
      "0\n",
      "1\n",
      "2\n",
      "3\n",
      "4\n",
      "5\n",
      "6\n",
      "7\n",
      "8\n",
      "9\n",
      "10\n"
     ]
    }
   ],
   "source": [
    "limite = 10\n",
    "\n",
    "for num in range(limite+1):\n",
    "    print(num)"
   ]
  },
  {
   "cell_type": "code",
   "execution_count": 23,
   "metadata": {},
   "outputs": [
    {
     "data": {
      "text/plain": [
       "[0, 2, 3, 4, 5, 6, 7, 8, 9, 10, 12, 14, 15, 16, 18, 20]"
      ]
     },
     "execution_count": 23,
     "metadata": {},
     "output_type": "execute_result"
    }
   ],
   "source": [
    "limite = 20\n",
    "possiveis_divisores = range(2, 10)\n",
    "\n",
    "lista_divisiveis = []\n",
    "\n",
    "for num in range(limite+1):\n",
    "  for divisor in possiveis_divisores:\n",
    "    if num % divisor == 0:\n",
    "      lista_divisiveis.append(num)\n",
    "      break\n",
    "\n",
    "lista_divisiveis"
   ]
  },
  {
   "cell_type": "code",
   "execution_count": 140,
   "metadata": {
    "colab": {
     "base_uri": "https://localhost:8080/"
    },
    "executionInfo": {
     "elapsed": 3,
     "status": "ok",
     "timestamp": 1664994583814,
     "user": {
      "displayName": "Gilberto Kaihami",
      "userId": "07651446941847976228"
     },
     "user_tz": 180
    },
    "id": "adxXu3UKZ084",
    "outputId": "4fb9f7b8-c783-4175-935f-7257210b7fb6"
   },
   "outputs": [],
   "source": [
    "# Ache todos os números que são divisíveis por pelo menos um número de 2 a 9,\n",
    "# dado um número inteiro (o limite)\n",
    "limite = 20\n",
    "divisores_possiveis = range(2,10)\n",
    "lista_divisiveis = []\n",
    "\n",
    "for num in range(limite+1):\n",
    "    for divisor in divisores_possiveis:\n",
    "        if num % divisor == 0: # número que estamos testando é divisível por um dos possíveis divisores!\n",
    "            lista_divisiveis.append(num)\n",
    "            break"
   ]
  },
  {
   "cell_type": "code",
   "execution_count": 141,
   "metadata": {},
   "outputs": [
    {
     "data": {
      "text/plain": [
       "[0, 2, 3, 4, 5, 6, 7, 8, 9, 10, 12, 14, 15, 16, 18, 20]"
      ]
     },
     "execution_count": 141,
     "metadata": {},
     "output_type": "execute_result"
    }
   ],
   "source": [
    "lista_divisiveis"
   ]
  },
  {
   "cell_type": "code",
   "execution_count": 147,
   "metadata": {},
   "outputs": [
    {
     "data": {
      "text/plain": [
       "[0,\n",
       " 0,\n",
       " 0,\n",
       " 0,\n",
       " 0,\n",
       " 0,\n",
       " 0,\n",
       " 0,\n",
       " 2,\n",
       " 3,\n",
       " 4,\n",
       " 4,\n",
       " 5,\n",
       " 6,\n",
       " 6,\n",
       " 6,\n",
       " 7,\n",
       " 8,\n",
       " 8,\n",
       " 8,\n",
       " 9,\n",
       " 9,\n",
       " 10,\n",
       " 10,\n",
       " 12,\n",
       " 12,\n",
       " 12,\n",
       " 12,\n",
       " 14,\n",
       " 14,\n",
       " 15,\n",
       " 15,\n",
       " 16,\n",
       " 16,\n",
       " 16,\n",
       " 18,\n",
       " 18,\n",
       " 18,\n",
       " 18,\n",
       " 20,\n",
       " 20,\n",
       " 20]"
      ]
     },
     "execution_count": 147,
     "metadata": {},
     "output_type": "execute_result"
    }
   ],
   "source": [
    "[num for num in range(limite+1)\n",
    "for divisor in divisores_possiveis if num % divisor == 0]"
   ]
  },
  {
   "cell_type": "code",
   "execution_count": 123,
   "metadata": {},
   "outputs": [
    {
     "data": {
      "text/plain": [
       "[0,\n",
       " 0,\n",
       " 0,\n",
       " 0,\n",
       " 0,\n",
       " 0,\n",
       " 0,\n",
       " 0,\n",
       " 2,\n",
       " 3,\n",
       " 4,\n",
       " 4,\n",
       " 5,\n",
       " 6,\n",
       " 6,\n",
       " 6,\n",
       " 7,\n",
       " 8,\n",
       " 8,\n",
       " 8,\n",
       " 9,\n",
       " 9,\n",
       " 10,\n",
       " 10,\n",
       " 12,\n",
       " 12,\n",
       " 12,\n",
       " 12,\n",
       " 14,\n",
       " 14,\n",
       " 15,\n",
       " 15,\n",
       " 16,\n",
       " 16,\n",
       " 16,\n",
       " 18,\n",
       " 18,\n",
       " 18,\n",
       " 18,\n",
       " 20,\n",
       " 20,\n",
       " 20]"
      ]
     },
     "execution_count": 123,
     "metadata": {},
     "output_type": "execute_result"
    }
   ],
   "source": [
    "[num for num in range(limite+1) for divisor in range(2,10) if num % divisor == 0]"
   ]
  },
  {
   "cell_type": "code",
   "execution_count": 148,
   "metadata": {},
   "outputs": [
    {
     "data": {
      "text/plain": [
       "{0, 2, 3, 4, 5, 6, 7, 8, 9, 10, 12, 14, 15, 16, 18, 20}"
      ]
     },
     "execution_count": 148,
     "metadata": {},
     "output_type": "execute_result"
    }
   ],
   "source": [
    "set([num for num in range(limite+1) for divisor in range(2,10) if num%divisor == 0])"
   ]
  },
  {
   "cell_type": "code",
   "execution_count": 136,
   "metadata": {},
   "outputs": [
    {
     "data": {
      "text/plain": [
       "[0, 2, 3, 4, 5, 6, 7, 8, 9, 10, 12, 14, 15, 16, 18, 20]"
      ]
     },
     "execution_count": 136,
     "metadata": {},
     "output_type": "execute_result"
    }
   ],
   "source": [
    "list(set([num for num in range(limite+1) for divisor in range(2,10) if num%divisor == 0]))"
   ]
  },
  {
   "cell_type": "code",
   "execution_count": 159,
   "metadata": {},
   "outputs": [
    {
     "data": {
      "text/plain": [
       "[0, 2, 3, 4, 5, 6, 7, 8, 9, 10, 12, 14, 15, 16, 18, 20]"
      ]
     },
     "execution_count": 159,
     "metadata": {},
     "output_type": "execute_result"
    }
   ],
   "source": [
    "[\n",
    "    num for num in range(limite+1) \n",
    "     if \"Encontrou divisor\" in \n",
    "     ['Encontrou divisor' for divisor in range(2,10) if num % divisor == 0]\n",
    "]"
   ]
  },
  {
   "cell_type": "markdown",
   "metadata": {},
   "source": [
    "___"
   ]
  },
  {
   "cell_type": "code",
   "execution_count": 162,
   "metadata": {},
   "outputs": [
    {
     "data": {
      "text/plain": [
       "['Encontrou divisor', 'Encontrou divisor', 'Encontrou divisor']"
      ]
     },
     "execution_count": 162,
     "metadata": {},
     "output_type": "execute_result"
    }
   ],
   "source": [
    "num = 8\n",
    "['Encontrou divisor' for divisor in range(2,10) if num % divisor == 0]"
   ]
  },
  {
   "cell_type": "code",
   "execution_count": 163,
   "metadata": {},
   "outputs": [
    {
     "data": {
      "text/plain": [
       "True"
      ]
     },
     "execution_count": 163,
     "metadata": {},
     "output_type": "execute_result"
    }
   ],
   "source": [
    "\"Encontrou divisor\" in ['Encontrou divisor' for divisor in range(2,10) if num % divisor == 0]"
   ]
  },
  {
   "cell_type": "code",
   "execution_count": 158,
   "metadata": {},
   "outputs": [
    {
     "data": {
      "text/plain": [
       "True"
      ]
     },
     "execution_count": 158,
     "metadata": {},
     "output_type": "execute_result"
    }
   ],
   "source": [
    "True in [True for divisor in range(2,10) if num % divisor == 0]"
   ]
  },
  {
   "cell_type": "markdown",
   "metadata": {},
   "source": [
    "___"
   ]
  },
  {
   "cell_type": "markdown",
   "metadata": {},
   "source": [
    "Vimos, assim, que a compreensão de lista pode ser bastante útil para auxiliar na legibilidade do código! Vale sempre ressaltar, no entanto, que exatamente o mesmo resultado pode ser obtido com estruturas de repetição."
   ]
  }
 ],
 "metadata": {
  "colab": {
   "authorship_tag": "ABX9TyPy87b8whmoZ4H7sZ7z482L",
   "collapsed_sections": [],
   "provenance": []
  },
  "kernelspec": {
   "display_name": "Python 3",
   "language": "python",
   "name": "python3"
  },
  "language_info": {
   "codemirror_mode": {
    "name": "ipython",
    "version": 3
   },
   "file_extension": ".py",
   "mimetype": "text/x-python",
   "name": "python",
   "nbconvert_exporter": "python",
   "pygments_lexer": "ipython3",
   "version": "3.9.5"
  }
 },
 "nbformat": 4,
 "nbformat_minor": 1
}

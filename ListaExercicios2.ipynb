{
 "cells": [
  {
   "cell_type": "markdown",
   "metadata": {},
   "source": [
    "# Lista de Exercícios II - Python \n",
    "\n",
    "1) Usando Dicionário para Calcular Quadrado de Números\n",
    "Crie uma função dicionarioQuadrados() que receba uma lista números e gera um dicionário, de forma que cada chave do dicionário seja um elemento da lista e cada valor seja este elemento ao quadrado."
   ]
  },
  {
   "cell_type": "code",
   "execution_count": 4,
   "metadata": {},
   "outputs": [
    {
     "data": {
      "text/plain": [
       "{1: 1, 3: 9, 6: 36, 8: 64, 12: 144, 16: 256, 25: 625, 30: 900, 40: 1600}"
      ]
     },
     "execution_count": 4,
     "metadata": {},
     "output_type": "execute_result"
    }
   ],
   "source": [
    "def dicionarioQuadrados(lista_numeros):\n",
    "  dict_quadrado = {}\n",
    "\n",
    "  for num in lista_numeros:\n",
    "    dict_quadrado[num] = num ** 2\n",
    "\n",
    "  return dict_quadrado\n",
    "\n",
    "dicionarioQuadrados([1, 3, 6, 8, 12, 16, 25, 30, 40])"
   ]
  },
  {
   "cell_type": "markdown",
   "metadata": {},
   "source": [
    "2) Dicionário cujos valores são listas\n",
    "Um exemplo de uso comum de dicionários são cadastros de clientes, em que, por exemplo, um elemento do dicionário pode ser o nome dos clientes, outro elemento o emprego outro o estado de habitação. Quando quisermos utilizar apenas as informações de estado, selecionamos apenas este elemento do dicionário, utilizando a respectiva chave como indexador do dicionário.\n",
    "\n",
    "Sabendo disso, crie uma função mediaPrecoCelular() que receba um dicionário que possui a chave \"valor\", e retorne uma lista com: a média dos valores existentes nesta chave, o celular mais barato, e o mais caro, nesta ordem."
   ]
  },
  {
   "cell_type": "code",
   "execution_count": 50,
   "metadata": {},
   "outputs": [
    {
     "data": {
      "text/plain": [
       "[5003.0, 1990, 8300]"
      ]
     },
     "execution_count": 50,
     "metadata": {},
     "output_type": "execute_result"
    }
   ],
   "source": [
    "dictValores = {\n",
    "  \"valor\": [8300, 2590, 5990, 1990, 6150]\n",
    "}\n",
    "\n",
    "def mediaPrecoCelular(dicionario):\n",
    "  valores = dicionario[\"valor\"]\n",
    "  valores.sort()\n",
    "\n",
    "  media = sum(valores)/len(valores)-1\n",
    "  mais_barato = valores[0]\n",
    "  mais_caro = valores[-1]\n",
    "\n",
    "  return [media, mais_barato, mais_caro]\n",
    "\n",
    "mediaPrecoCelular(dictValores)"
   ]
  },
  {
   "cell_type": "markdown",
   "metadata": {},
   "source": [
    "3) Filtrando elementos por funções lambda\n",
    "Em programação, temos que pensar não apenas na implementação do código propriamente dita para execução correta da tarefa desejada, como também na melhor forma de realizar esta implementação. Com isso, paradigmas de programação foram criados para auxiliar o programador a pensar diferente.\n",
    "\n",
    "Um desses paradigmas é a programação funcional, cujo objetivo é aumentar o determinismo do programa de forma que, caso o programa seja escalável e se torne muito grande, os desenvolvedores não percam o controle do código. Uma forma de fazer programação funcional é por meio de funções lambdas, também conhecidas como \"funções anônimas\", tendo esse nome porque não precisam ser declaradas com um nome.\n",
    "\n",
    "Sabendo disso, crie uma função filtraElementos() que recebe uma lista e utiliza função lambda para filtrar os elementos maiores que 10, ou seja, a função deve retornar uma lista apenas com estes elementos maiores que 10.\n",
    "\n",
    "OBS: em um cenário real, a função filtraElementos() seria utilizada para outras funcionalidades também além da utilização da lambda, de forma a melhorar o determinismo do código."
   ]
  },
  {
   "cell_type": "code",
   "execution_count": 177,
   "metadata": {},
   "outputs": [
    {
     "data": {
      "text/plain": [
       "[127, 24, 26, 135, 22]"
      ]
     },
     "execution_count": 177,
     "metadata": {},
     "output_type": "execute_result"
    }
   ],
   "source": [
    "def filtraElementos(listaA):\n",
    "\tfunc_filtra = lambda x : x > 10\n",
    "\treturn [elem for elem in listaA if func_filtra(elem)]\n",
    "\n",
    "filtraElementos([\n",
    "  127,\n",
    "  24,\n",
    "  26,\n",
    "  135,\n",
    "  22\n",
    "])"
   ]
  },
  {
   "cell_type": "markdown",
   "metadata": {},
   "source": [
    "4) Remoção de espaços extras de strings\n",
    "É comum em sistemas de cadastro, os clientes preencherem dados com caracteres ou espaços indesejáveis. Sendo assim, implemente uma função remove_espaco(listaStrings) que recebe uma lista de strings e retire espaços extras que possam haver no início, meio ou no fim de uma string.\n",
    "\n",
    "Por exemplo,\n",
    "entrada: [\"  string\", \"  exemplo  \", \"do   exercício\"] saída: [\"string\", \"exemplo\", \"do exercício\"]"
   ]
  },
  {
   "cell_type": "code",
   "execution_count": 117,
   "metadata": {},
   "outputs": [
    {
     "name": "stdout",
     "output_type": "stream",
     "text": [
      "['string', 'exemplo', 'do exercício']\n"
     ]
    }
   ],
   "source": [
    "strings_com_espaco = [\"  string\", \"  exemplo  \", \"do   exercício\"]\n",
    "\n",
    "def remove_espaco(lista_strings):\n",
    "  strings_sem_espaco_extra = []\n",
    "\n",
    "  for string in lista_strings:\n",
    "    s = \" \".join(string.split())\n",
    "    strings_sem_espaco_extra.append(s)\n",
    "\n",
    "  print(strings_sem_espaco_extra)\n",
    "\n",
    "remove_espaco(strings_com_espaco)"
   ]
  },
  {
   "cell_type": "markdown",
   "metadata": {},
   "source": [
    "5) Expressões geradoras para tuplas\n",
    "Também é possível utilizar expressões geradoras para construir tuplas. Sendo assim, crie a função getQuadrado() que recebe uma tupla de elementos numéricos, e retorna uma tupla com o quadrado de cada elemento da tupla original."
   ]
  },
  {
   "cell_type": "code",
   "execution_count": 122,
   "metadata": {},
   "outputs": [
    {
     "data": {
      "text/plain": [
       "(4, 25)"
      ]
     },
     "execution_count": 122,
     "metadata": {},
     "output_type": "execute_result"
    }
   ],
   "source": [
    "def getQuadrado(tupla):\n",
    "  nova_tupla = []\n",
    "\n",
    "  for num in tupla:\n",
    "    sqr = num ** 2\n",
    "    nova_tupla.append(sqr)\n",
    "\n",
    "  return tuple(nova_tupla)\n",
    "\n",
    "getQuadrado((2,5))"
   ]
  },
  {
   "cell_type": "markdown",
   "metadata": {},
   "source": [
    "6) Encontrando números divisíveis por 7\n",
    "Uma forma \"pythonica\" de iterarmos por listas é por meio de compreensão de listas, que substitui o uso de um laço de repetição for tal como implementamos tradicionalmente para a criação de novas listas.\n",
    "\n",
    "Sabendo disso, digamos que em um sistema desejemos buscar, entre 1000 usuários, apenas aqueles cujo ID é divisível por 7. Faça uma função numerosDiv7() para este sistema que receba uma lista A de 1000 elementos e retorne uma lista apenas com os elementos de A que são divisíveis por 7, e em ordem crescente.\n",
    "\n",
    "OBS: Caso existam elementos repetidos na lista, a saída deverá exibir apenas os elementos únicos divisíveis por 7. E se não houver elementos divisíveis por 7, o programa deve retornar uma lista vazia."
   ]
  },
  {
   "cell_type": "code",
   "execution_count": 171,
   "metadata": {},
   "outputs": [
    {
     "name": "stdout",
     "output_type": "stream",
     "text": [
      "[161, 259, 301, 329, 616, 665, 679, 763, 910, 987, 994]\n"
     ]
    }
   ],
   "source": [
    "def numerosDiv7(listaA):\n",
    "  lista_divisiveis = []\n",
    "\n",
    "  for num in listaA:\n",
    "    if num % 7 == 0:\n",
    "      lista_divisiveis.append(num)\n",
    "      resultado = lista_divisiveis\n",
    "    else:\n",
    "      resultado = []\n",
    "  print(sorted(list(set(resultado))))\n",
    "\n",
    "numerosDiv7([\n",
    " 910,\n",
    " 259,\n",
    " 329,\n",
    " 301,\n",
    " 679,\n",
    " 665,\n",
    " 763,\n",
    " 994,\n",
    " 161,\n",
    " 616,\n",
    " 987,\n",
    " 987,\n",
    " 987\n",
    " ])"
   ]
  },
  {
   "cell_type": "code",
   "execution_count": 168,
   "metadata": {},
   "outputs": [
    {
     "data": {
      "text/plain": [
       "[161, 259, 301, 329, 616, 665, 679, 763, 910, 987, 994]"
      ]
     },
     "execution_count": 168,
     "metadata": {},
     "output_type": "execute_result"
    }
   ],
   "source": [
    "def numerosDiv7(listaA):\n",
    "  return sorted(list(set([num for num in listaA if num % 7 == 0])))\n",
    "\n",
    "numerosDiv7([910,\n",
    " 259,\n",
    " 329,\n",
    " 301,\n",
    " 679,\n",
    " 665,\n",
    " 763,\n",
    " 994,\n",
    " 161,\n",
    " 616,\n",
    " 987,\n",
    " 987,\n",
    " 987\n",
    "])"
   ]
  },
  {
   "cell_type": "markdown",
   "metadata": {},
   "source": [
    "7) Retorna consoantes\n",
    "Muitas vezes quando estamos trabalhando com strings, pode ser bem útil usarmos compreensão de listas para processar caractere a caractere. Sabendo disso, crie uma função encontraConsoantes que retorna uma string com todas as consoantes (e apenas as consoantes!) de uma dada frase de input."
   ]
  },
  {
   "cell_type": "code",
   "execution_count": 231,
   "metadata": {},
   "outputs": [
    {
     "data": {
      "text/plain": [
       "'dlrstmtcnscttrdpscngltEtmgtlgllctslbrtscndmntm'"
      ]
     },
     "execution_count": 231,
     "metadata": {},
     "output_type": "execute_result"
    }
   ],
   "source": [
    "vogais = ['a', 'e', 'i', 'o', 'u']\n",
    "\n",
    "def encontraConsoantes(text):\n",
    "  lista_consoantes = []\n",
    "\n",
    "  string = ''.join(text.split()).replace(\",\", \"\").replace(\".\", \"\")\n",
    "\n",
    "  for char in string:\n",
    "    if char not in vogais:\n",
    "      lista_consoantes.append(char)\n",
    "  \n",
    "  return ''.join(lista_consoantes)\n",
    "\n",
    "encontraConsoantes(\"dolor sit amet, consectetur adipiscing elit. Etiam eget ligula eu lectus lobortis condimentum\")\n"
   ]
  },
  {
   "cell_type": "markdown",
   "metadata": {},
   "source": [
    "8) Compreensão de dicionários\n",
    "Da mesma forma que utilizamos a sintaxe \"pythonica\" de compreensão de listas, podemos fazer uma estrutura semelhante para gerar dicionários. Sendo assim, crie uma função mediaAlunosParaDicionario() que receba uma lista de listas, em que o primeiro elemento é uma lista com os nomes dos alunos; e o segundo elemento é uma lista com suas respectivas médias. Utilizando compreensão de dicionários, armazene estes dados no dicionário de forma que cada aluno seja a chave e sua média seja o valor.\n",
    "\n",
    "OBS: caso a nota não esteja numérica, é necessário tratar os valores para tipos numéricos!"
   ]
  },
  {
   "cell_type": "code",
   "execution_count": 235,
   "metadata": {},
   "outputs": [
    {
     "data": {
      "text/plain": [
       "({'Alexandre': 5.0,\n",
       "  'Ratis': 7.0,\n",
       "  'Rodrigo': 8.0,\n",
       "  'Patricia': 6.5,\n",
       "  'Rejane': 9.0},\n",
       " {'Alexandre': 5.0,\n",
       "  'Ratis': 7.0,\n",
       "  'Rodrigo': 8.0,\n",
       "  'Patricia': 6.5,\n",
       "  'Rejane': 9.0})"
      ]
     },
     "execution_count": 235,
     "metadata": {},
     "output_type": "execute_result"
    }
   ],
   "source": [
    "def mediaAlunosParaDicionario(lista_alunos):\n",
    "    return {nome: float(media_valor) if isinstance(media_valor, (int, float)) or media_valor.replace('.', '', 1).isdigit() else None\n",
    "            for nome, media_valor in zip(lista_alunos[0], lista_alunos[1])}\n",
    "\n",
    "mediaAlunosParaDicionario([[\"Alexandre\", \"Ratis\", \"Rodrigo\", \"Patricia\", \"Rejane\"], [5.0, 7.0, \"8.0\", 6.5, \"9.0\"]]), {\"Alexandre\": 5.0, \"Ratis\": 7.0, \"Rodrigo\": 8.0, \"Patricia\": 6.5, \"Rejane\": 9.0}"
   ]
  }
 ],
 "metadata": {
  "kernelspec": {
   "display_name": "Python 3",
   "language": "python",
   "name": "python3"
  },
  "language_info": {
   "codemirror_mode": {
    "name": "ipython",
    "version": 3
   },
   "file_extension": ".py",
   "mimetype": "text/x-python",
   "name": "python",
   "nbconvert_exporter": "python",
   "pygments_lexer": "ipython3",
   "version": "3.9.5"
  }
 },
 "nbformat": 4,
 "nbformat_minor": 2
}
